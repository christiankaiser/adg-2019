{
 "cells": [
  {
   "cell_type": "markdown",
   "metadata": {},
   "source": [
    "# Réseau de neurones pour la régression"
   ]
  },
  {
   "cell_type": "markdown",
   "metadata": {},
   "source": [
    "Nous allons ici appliquer un réseau de neurones à un problème de régression. Nous allons essayer de faire un modèle pour estimer les prix des appartements en Suisse. Pour cela, nous utilisons un jeu de données construit à partir d'annonces d'appartements pour la location. Ce jeu de données contient notamment le nombre de pièces, la surface habitable en mètres carrés, la latitude, longitude et évidemment le loyer par mois en francs.\n",
    "\n",
    "Pour comparaison, nous allons également faire un modèle de régression linéaire."
   ]
  },
  {
   "cell_type": "markdown",
   "metadata": {},
   "source": [
    "## Lecture des données"
   ]
  },
  {
   "cell_type": "code",
   "execution_count": 2,
   "metadata": {},
   "outputs": [],
   "source": [
    "d = read.table(file=\"data/appartements.tsv\", header=TRUE, sep=\"\\t\")"
   ]
  },
  {
   "cell_type": "code",
   "execution_count": 4,
   "metadata": {},
   "outputs": [
    {
     "data": {
      "text/html": [
       "<table>\n",
       "<thead><tr><th scope=col>adv_id</th><th scope=col>lat</th><th scope=col>lng</th><th scope=col>nombre_pieces</th><th scope=col>surface_habitable</th><th scope=col>loyer_mois</th></tr></thead>\n",
       "<tbody>\n",
       "\t<tr><td>100513760</td><td>47.36522 </td><td>8.564631 </td><td>1.0      </td><td> 30      </td><td>2300     </td></tr>\n",
       "\t<tr><td>101524704</td><td>47.35651 </td><td>7.984905 </td><td>4.5      </td><td> 87      </td><td>1390     </td></tr>\n",
       "\t<tr><td>102182223</td><td>46.20270 </td><td>6.165245 </td><td>3.0      </td><td> 60      </td><td>3200     </td></tr>\n",
       "\t<tr><td>102194975</td><td>47.56210 </td><td>7.591099 </td><td>3.0      </td><td> 70      </td><td>1670     </td></tr>\n",
       "\t<tr><td>102532546</td><td>47.56210 </td><td>7.591099 </td><td>3.0      </td><td> 70      </td><td>1670     </td></tr>\n",
       "\t<tr><td>102593911</td><td>47.47659 </td><td>9.490726 </td><td>3.5      </td><td>100      </td><td>1570     </td></tr>\n",
       "</tbody>\n",
       "</table>\n"
      ],
      "text/latex": [
       "\\begin{tabular}{r|llllll}\n",
       " adv\\_id & lat & lng & nombre\\_pieces & surface\\_habitable & loyer\\_mois\\\\\n",
       "\\hline\n",
       "\t 100513760 & 47.36522  & 8.564631  & 1.0       &  30       & 2300     \\\\\n",
       "\t 101524704 & 47.35651  & 7.984905  & 4.5       &  87       & 1390     \\\\\n",
       "\t 102182223 & 46.20270  & 6.165245  & 3.0       &  60       & 3200     \\\\\n",
       "\t 102194975 & 47.56210  & 7.591099  & 3.0       &  70       & 1670     \\\\\n",
       "\t 102532546 & 47.56210  & 7.591099  & 3.0       &  70       & 1670     \\\\\n",
       "\t 102593911 & 47.47659  & 9.490726  & 3.5       & 100       & 1570     \\\\\n",
       "\\end{tabular}\n"
      ],
      "text/markdown": [
       "\n",
       "| adv_id | lat | lng | nombre_pieces | surface_habitable | loyer_mois |\n",
       "|---|---|---|---|---|---|\n",
       "| 100513760 | 47.36522  | 8.564631  | 1.0       |  30       | 2300      |\n",
       "| 101524704 | 47.35651  | 7.984905  | 4.5       |  87       | 1390      |\n",
       "| 102182223 | 46.20270  | 6.165245  | 3.0       |  60       | 3200      |\n",
       "| 102194975 | 47.56210  | 7.591099  | 3.0       |  70       | 1670      |\n",
       "| 102532546 | 47.56210  | 7.591099  | 3.0       |  70       | 1670      |\n",
       "| 102593911 | 47.47659  | 9.490726  | 3.5       | 100       | 1570      |\n",
       "\n"
      ],
      "text/plain": [
       "  adv_id    lat      lng      nombre_pieces surface_habitable loyer_mois\n",
       "1 100513760 47.36522 8.564631 1.0            30               2300      \n",
       "2 101524704 47.35651 7.984905 4.5            87               1390      \n",
       "3 102182223 46.20270 6.165245 3.0            60               3200      \n",
       "4 102194975 47.56210 7.591099 3.0            70               1670      \n",
       "5 102532546 47.56210 7.591099 3.0            70               1670      \n",
       "6 102593911 47.47659 9.490726 3.5           100               1570      "
      ]
     },
     "metadata": {},
     "output_type": "display_data"
    }
   ],
   "source": [
    "head(d)"
   ]
  },
  {
   "cell_type": "code",
   "execution_count": 8,
   "metadata": {},
   "outputs": [
    {
     "data": {
      "text/plain": [
       "     adv_id               lat             lng         nombre_pieces   \n",
       " Min.   :100513760   Min.   :45.83   Min.   : 5.973   Min.   : 1.000  \n",
       " 1st Qu.:103367455   1st Qu.:47.14   1st Qu.: 7.591   1st Qu.: 2.500  \n",
       " Median :103388948   Median :47.37   Median : 8.415   Median : 3.500  \n",
       " Mean   :103375009   Mean   :47.24   Mean   : 8.132   Mean   : 3.457  \n",
       " 3rd Qu.:103402957   3rd Qu.:47.47   3rd Qu.: 8.620   3rd Qu.: 4.500  \n",
       " Max.   :103429689   Max.   :47.76   Max.   :10.343   Max.   :14.000  \n",
       " surface_habitable   loyer_mois   \n",
       " Min.   : 15.00    Min.   :  115  \n",
       " 1st Qu.: 61.00    1st Qu.: 1300  \n",
       " Median : 81.00    Median : 1670  \n",
       " Mean   : 86.02    Mean   : 1887  \n",
       " 3rd Qu.:105.00    3rd Qu.: 2180  \n",
       " Max.   :400.00    Max.   :15000  "
      ]
     },
     "metadata": {},
     "output_type": "display_data"
    }
   ],
   "source": [
    "summary(d)"
   ]
  },
  {
   "cell_type": "code",
   "execution_count": 30,
   "metadata": {},
   "outputs": [
    {
     "data": {
      "text/html": [
       "14572"
      ],
      "text/latex": [
       "14572"
      ],
      "text/markdown": [
       "14572"
      ],
      "text/plain": [
       "[1] 14572"
      ]
     },
     "metadata": {},
     "output_type": "display_data"
    }
   ],
   "source": [
    "nrow(d)"
   ]
  },
  {
   "cell_type": "markdown",
   "metadata": {},
   "source": [
    "Nous avons les données pour presque 15'000 appartements."
   ]
  },
  {
   "cell_type": "code",
   "execution_count": 7,
   "metadata": {},
   "outputs": [
    {
     "data": {
      "image/png": "[encoded data removed]",
      "text/plain": [
       "plot without title"
      ]
     },
     "metadata": {},
     "output_type": "display_data"
    }
   ],
   "source": [
    "plot(d$loyer_mois, d$surface_habitable)"
   ]
  },
  {
   "cell_type": "markdown",
   "metadata": {},
   "source": [
    "## Préparation du jeu de données"
   ]
  },
  {
   "cell_type": "markdown",
   "metadata": {},
   "source": [
    "Il est important de normaliser les données avant d'entraîner un réseau de neurones. Si les données ne sont pas normalisées, le réseau a plus de difficultés de converger vers un résultat acceptable.\n",
    "\n",
    "Il y a beaucoup de façons de normaliser les données dans R. Le but est de faire en sorte que pour chaque variable, les valeurs se situent entre 0 et 1 (ou parfois entre -1 et 1).\n",
    "\n",
    "Dans un premier temps, nous calculons les valeurs minimum et maximum pour chaque variable dans notre jeu de données (à part la première colonne qui est l'identifiant unique de l'appartement):"
   ]
  },
  {
   "cell_type": "code",
   "execution_count": 23,
   "metadata": {},
   "outputs": [],
   "source": [
    "maxs = apply(d[,2:6], 2, max)\n",
    "mins = apply(d[,2:6], 2, min)"
   ]
  },
  {
   "cell_type": "code",
   "execution_count": 24,
   "metadata": {},
   "outputs": [
    {
     "data": {
      "text/html": [
       "<dl class=dl-horizontal>\n",
       "\t<dt>lat</dt>\n",
       "\t\t<dd>47.764567</dd>\n",
       "\t<dt>lng</dt>\n",
       "\t\t<dd>10.34274</dd>\n",
       "\t<dt>nombre_pieces</dt>\n",
       "\t\t<dd>14</dd>\n",
       "\t<dt>surface_habitable</dt>\n",
       "\t\t<dd>400</dd>\n",
       "\t<dt>loyer_mois</dt>\n",
       "\t\t<dd>15000</dd>\n",
       "</dl>\n"
      ],
      "text/latex": [
       "\\begin{description*}\n",
       "\\item[lat] 47.764567\n",
       "\\item[lng] 10.34274\n",
       "\\item[nombre\\textbackslash{}\\_pieces] 14\n",
       "\\item[surface\\textbackslash{}\\_habitable] 400\n",
       "\\item[loyer\\textbackslash{}\\_mois] 15000\n",
       "\\end{description*}\n"
      ],
      "text/markdown": [
       "lat\n",
       ":   47.764567lng\n",
       ":   10.34274nombre_pieces\n",
       ":   14surface_habitable\n",
       ":   400loyer_mois\n",
       ":   15000\n",
       "\n"
      ],
      "text/plain": [
       "              lat               lng     nombre_pieces surface_habitable \n",
       "         47.76457          10.34274          14.00000         400.00000 \n",
       "       loyer_mois \n",
       "      15000.00000 "
      ]
     },
     "metadata": {},
     "output_type": "display_data"
    }
   ],
   "source": [
    "maxs"
   ]
  },
  {
   "cell_type": "code",
   "execution_count": 25,
   "metadata": {},
   "outputs": [
    {
     "data": {
      "text/html": [
       "<dl class=dl-horizontal>\n",
       "\t<dt>lat</dt>\n",
       "\t\t<dd>45.832319</dd>\n",
       "\t<dt>lng</dt>\n",
       "\t\t<dd>5.973495</dd>\n",
       "\t<dt>nombre_pieces</dt>\n",
       "\t\t<dd>1</dd>\n",
       "\t<dt>surface_habitable</dt>\n",
       "\t\t<dd>15</dd>\n",
       "\t<dt>loyer_mois</dt>\n",
       "\t\t<dd>115</dd>\n",
       "</dl>\n"
      ],
      "text/latex": [
       "\\begin{description*}\n",
       "\\item[lat] 45.832319\n",
       "\\item[lng] 5.973495\n",
       "\\item[nombre\\textbackslash{}\\_pieces] 1\n",
       "\\item[surface\\textbackslash{}\\_habitable] 15\n",
       "\\item[loyer\\textbackslash{}\\_mois] 115\n",
       "\\end{description*}\n"
      ],
      "text/markdown": [
       "lat\n",
       ":   45.832319lng\n",
       ":   5.973495nombre_pieces\n",
       ":   1surface_habitable\n",
       ":   15loyer_mois\n",
       ":   115\n",
       "\n"
      ],
      "text/plain": [
       "              lat               lng     nombre_pieces surface_habitable \n",
       "        45.832319          5.973495          1.000000         15.000000 \n",
       "       loyer_mois \n",
       "       115.000000 "
      ]
     },
     "metadata": {},
     "output_type": "display_data"
    }
   ],
   "source": [
    "mins"
   ]
  },
  {
   "cell_type": "markdown",
   "metadata": {},
   "source": [
    "Nous pouvons maintenant normaliser nos données. En gros, pour une valeur `x` donnée, nous faisons le calcul `(x - min) / (max - min)`, et ceci pour chaque valeur et pour toutes les variables (les valeurs minimales et maximales sont par variable évidemment).\n",
    "\n",
    "La fonction `scale` permet de faire cette opération pour toutes les variables en même temps:"
   ]
  },
  {
   "cell_type": "code",
   "execution_count": 26,
   "metadata": {},
   "outputs": [],
   "source": [
    "dnorm = as.data.frame(scale(d[,2:6], center=mins, scale=maxs-mins))"
   ]
  },
  {
   "cell_type": "code",
   "execution_count": 27,
   "metadata": {},
   "outputs": [
    {
     "data": {
      "text/html": [
       "<table>\n",
       "<thead><tr><th scope=col>lat</th><th scope=col>lng</th><th scope=col>nombre_pieces</th><th scope=col>surface_habitable</th><th scope=col>loyer_mois</th></tr></thead>\n",
       "<tbody>\n",
       "\t<tr><td>0.7933241 </td><td>0.5930398 </td><td>0.0000000 </td><td>0.03896104</td><td>0.14679207</td></tr>\n",
       "\t<tr><td>0.7888190 </td><td>0.4603564 </td><td>0.2692308 </td><td>0.18701299</td><td>0.08565670</td></tr>\n",
       "\t<tr><td>0.1916840 </td><td>0.0438863 </td><td>0.1538462 </td><td>0.11688312</td><td>0.20725563</td></tr>\n",
       "\t<tr><td>0.8952184 </td><td>0.3702251 </td><td>0.1538462 </td><td>0.14285714</td><td>0.10446758</td></tr>\n",
       "\t<tr><td>0.8952184 </td><td>0.3702251 </td><td>0.1538462 </td><td>0.14285714</td><td>0.10446758</td></tr>\n",
       "\t<tr><td>0.8509632 </td><td>0.8049974 </td><td>0.1923077 </td><td>0.22077922</td><td>0.09774941</td></tr>\n",
       "</tbody>\n",
       "</table>\n"
      ],
      "text/latex": [
       "\\begin{tabular}{r|lllll}\n",
       " lat & lng & nombre\\_pieces & surface\\_habitable & loyer\\_mois\\\\\n",
       "\\hline\n",
       "\t 0.7933241  & 0.5930398  & 0.0000000  & 0.03896104 & 0.14679207\\\\\n",
       "\t 0.7888190  & 0.4603564  & 0.2692308  & 0.18701299 & 0.08565670\\\\\n",
       "\t 0.1916840  & 0.0438863  & 0.1538462  & 0.11688312 & 0.20725563\\\\\n",
       "\t 0.8952184  & 0.3702251  & 0.1538462  & 0.14285714 & 0.10446758\\\\\n",
       "\t 0.8952184  & 0.3702251  & 0.1538462  & 0.14285714 & 0.10446758\\\\\n",
       "\t 0.8509632  & 0.8049974  & 0.1923077  & 0.22077922 & 0.09774941\\\\\n",
       "\\end{tabular}\n"
      ],
      "text/markdown": [
       "\n",
       "| lat | lng | nombre_pieces | surface_habitable | loyer_mois |\n",
       "|---|---|---|---|---|\n",
       "| 0.7933241  | 0.5930398  | 0.0000000  | 0.03896104 | 0.14679207 |\n",
       "| 0.7888190  | 0.4603564  | 0.2692308  | 0.18701299 | 0.08565670 |\n",
       "| 0.1916840  | 0.0438863  | 0.1538462  | 0.11688312 | 0.20725563 |\n",
       "| 0.8952184  | 0.3702251  | 0.1538462  | 0.14285714 | 0.10446758 |\n",
       "| 0.8952184  | 0.3702251  | 0.1538462  | 0.14285714 | 0.10446758 |\n",
       "| 0.8509632  | 0.8049974  | 0.1923077  | 0.22077922 | 0.09774941 |\n",
       "\n"
      ],
      "text/plain": [
       "  lat       lng       nombre_pieces surface_habitable loyer_mois\n",
       "1 0.7933241 0.5930398 0.0000000     0.03896104        0.14679207\n",
       "2 0.7888190 0.4603564 0.2692308     0.18701299        0.08565670\n",
       "3 0.1916840 0.0438863 0.1538462     0.11688312        0.20725563\n",
       "4 0.8952184 0.3702251 0.1538462     0.14285714        0.10446758\n",
       "5 0.8952184 0.3702251 0.1538462     0.14285714        0.10446758\n",
       "6 0.8509632 0.8049974 0.1923077     0.22077922        0.09774941"
      ]
     },
     "metadata": {},
     "output_type": "display_data"
    }
   ],
   "source": [
    "head(dnorm)"
   ]
  },
  {
   "cell_type": "markdown",
   "metadata": {},
   "source": [
    "## Régression linéaire"
   ]
  },
  {
   "cell_type": "markdown",
   "metadata": {},
   "source": [
    "Essayons de faire une simple régression multiple pour estimer le loyer des appartements. En principe, nous pouvons utiliser les données sans normalisation pour une régression linéaire. Cepedant, puisque nous allons comparer le résultat avec celui d'un réseau de neurones, nous utilisons dores et déjà les valeurs normalisées."
   ]
  },
  {
   "cell_type": "code",
   "execution_count": 28,
   "metadata": {},
   "outputs": [
    {
     "data": {
      "text/plain": [
       "\n",
       "Call:\n",
       "lm(formula = loyer_mois ~ surface_habitable + nombre_pieces, \n",
       "    data = dnorm)\n",
       "\n",
       "Residuals:\n",
       "     Min       1Q   Median       3Q      Max \n",
       "-0.36138 -0.02120 -0.00556  0.01134  0.58801 \n",
       "\n",
       "Coefficients:\n",
       "                    Estimate Std. Error t value Pr(>|t|)    \n",
       "(Intercept)        0.0232717  0.0008435  27.590   <2e-16 ***\n",
       "surface_habitable  0.5881615  0.0071952  81.744   <2e-16 ***\n",
       "nombre_pieces     -0.0674119  0.0071875  -9.379   <2e-16 ***\n",
       "---\n",
       "Signif. codes:  0 ‘***’ 0.001 ‘**’ 0.01 ‘*’ 0.05 ‘.’ 0.1 ‘ ’ 1\n",
       "\n",
       "Residual standard error: 0.04638 on 14569 degrees of freedom\n",
       "Multiple R-squared:  0.5663,\tAdjusted R-squared:  0.5663 \n",
       "F-statistic:  9513 on 2 and 14569 DF,  p-value: < 2.2e-16\n"
      ]
     },
     "metadata": {},
     "output_type": "display_data"
    }
   ],
   "source": [
    "regmul = lm(loyer_mois ~ surface_habitable + nombre_pieces, data=dnorm)\n",
    "summary(regmul)"
   ]
  },
  {
   "cell_type": "markdown",
   "metadata": {},
   "source": [
    "Les résultat est une régression avec un $R^2$ de 0.56. Nous voyons par ailleurs que le facteur principal pour le loyer d'un appartement et la surface habitable. Le nombre de pièces a un petit effect négatif (un appartement avec plus de pièces étant un peu moins cher qu'un appartement de même taille mais moins de pièces)."
   ]
  },
  {
   "cell_type": "markdown",
   "metadata": {},
   "source": [
    "Nous pouvons encore essayer d'inclure l'effet de la localisation. En effet, nous pouvons penser qu'en fonction de la localisation de l'appartement, le loyer pourrait varier. Nous pouvons faire ceci en simplement incluant les coordonnées géographiques:"
   ]
  },
  {
   "cell_type": "code",
   "execution_count": 29,
   "metadata": {},
   "outputs": [
    {
     "data": {
      "text/plain": [
       "\n",
       "Call:\n",
       "lm(formula = loyer_mois ~ surface_habitable + nombre_pieces + \n",
       "    lat + lng, data = dnorm)\n",
       "\n",
       "Residuals:\n",
       "     Min       1Q   Median       3Q      Max \n",
       "-0.35988 -0.02115 -0.00506  0.01176  0.57684 \n",
       "\n",
       "Coefficients:\n",
       "                   Estimate Std. Error t value Pr(>|t|)    \n",
       "(Intercept)        0.045364   0.001747  25.962   <2e-16 ***\n",
       "surface_habitable  0.588872   0.007155  82.302   <2e-16 ***\n",
       "nombre_pieces     -0.069518   0.007139  -9.738   <2e-16 ***\n",
       "lat               -0.026028   0.002349 -11.082   <2e-16 ***\n",
       "lng               -0.005903   0.002562  -2.304   0.0212 *  \n",
       "---\n",
       "Signif. codes:  0 ‘***’ 0.001 ‘**’ 0.01 ‘*’ 0.05 ‘.’ 0.1 ‘ ’ 1\n",
       "\n",
       "Residual standard error: 0.04606 on 14567 degrees of freedom\n",
       "Multiple R-squared:  0.5725,\tAdjusted R-squared:  0.5723 \n",
       "F-statistic:  4876 on 4 and 14567 DF,  p-value: < 2.2e-16\n"
      ]
     },
     "metadata": {},
     "output_type": "display_data"
    }
   ],
   "source": [
    "regmulloc = lm(loyer_mois ~ surface_habitable + nombre_pieces + lat + lng, data=dnorm)\n",
    "summary(regmulloc)"
   ]
  },
  {
   "cell_type": "markdown",
   "metadata": {},
   "source": [
    "On arrive effectivement à expliquer un peu plus de variance, avec un $R^2$ de 0.57. Cependant, la différence est quand-même minime. Nous voyons aussi que la longitude n'a quasiment pas d'effet, et la latitude seulement un effet minimal. Plus on va au Sud, plus les appartements sont un poil plus cher selon ce modèle."
   ]
  },
  {
   "cell_type": "markdown",
   "metadata": {},
   "source": [
    "## Réseau de neurones"
   ]
  },
  {
   "cell_type": "markdown",
   "metadata": {},
   "source": [
    "Avec un réseau de neurones on doit séparer notre jeu de données en jeu d'entrainement et jeu de test, comme on l'avait déjà fait pour la régression logistique. Vu que nous avons un nombre plus important de données, nous pouvons réserver 25% des données pour le test, et utiliser seulement 75% pour l'entrainement:"
   ]
  },
  {
   "cell_type": "code",
   "execution_count": 32,
   "metadata": {},
   "outputs": [],
   "source": [
    "idx = sample(nrow(dnorm), size=0.75*nrow(dnorm))\n",
    "dtrain = dnorm[idx,]\n",
    "dtest = dnorm[-idx,]"
   ]
  },
  {
   "cell_type": "code",
   "execution_count": 33,
   "metadata": {},
   "outputs": [
    {
     "data": {
      "text/html": [
       "<ol class=list-inline>\n",
       "\t<li>10929</li>\n",
       "\t<li>3643</li>\n",
       "</ol>\n"
      ],
      "text/latex": [
       "\\begin{enumerate*}\n",
       "\\item 10929\n",
       "\\item 3643\n",
       "\\end{enumerate*}\n"
      ],
      "text/markdown": [
       "1. 10929\n",
       "2. 3643\n",
       "\n",
       "\n"
      ],
      "text/plain": [
       "[1] 10929  3643"
      ]
     },
     "metadata": {},
     "output_type": "display_data"
    }
   ],
   "source": [
    "c(nrow(dtrain), nrow(dtest))"
   ]
  },
  {
   "cell_type": "markdown",
   "metadata": {},
   "source": [
    "Nous avons donc environ 11'000 appartements pour l'entrainement et 3600 pour tester les modèle.\n",
    "\n",
    "Nous allons utiliser le package `neuralnet` pour construire notre réseau de neurones. Nous allons utiliser un autre package, `caret` pour calculer le $R^2$ à travers la fonction `postResample`."
   ]
  },
  {
   "cell_type": "code",
   "execution_count": 57,
   "metadata": {},
   "outputs": [],
   "source": [
    "library(neuralnet)\n",
    "library(caret)"
   ]
  },
  {
   "cell_type": "markdown",
   "metadata": {},
   "source": [
    "Nous construisons un réseau avec deux couches, la première avec 8 neurones et la deuxième avec 4 neurones. L'entrainement peut prendre un petit moment..."
   ]
  },
  {
   "cell_type": "code",
   "execution_count": 55,
   "metadata": {},
   "outputs": [],
   "source": [
    "nn = neuralnet(\n",
    "    loyer_mois ~ surface_habitable + nombre_pieces,\n",
    "    data=dtrain,\n",
    "    hidden=c(30,10),\n",
    "    linear.output=TRUE\n",
    ")"
   ]
  },
  {
   "cell_type": "markdown",
   "metadata": {},
   "source": [
    "Nous calculons maintenant les prédictions (donc l'estimation du loyer) pour le jeu de donneés test."
   ]
  },
  {
   "cell_type": "code",
   "execution_count": 58,
   "metadata": {},
   "outputs": [],
   "source": [
    "pred_nn = predict(nn, dtest)"
   ]
  },
  {
   "cell_type": "markdown",
   "metadata": {},
   "source": [
    "Nous allons maintenant calculer le $R^2$ pour pouvoir comparer avec la régression multiple. Pour cela, nous allons calculer le loyer par mois non normalisé, à la fois les valeurs estimées par le modèle et les valeurs réelles, pour le jeu de données test:"
   ]
  },
  {
   "cell_type": "code",
   "execution_count": 59,
   "metadata": {},
   "outputs": [],
   "source": [
    "yhat = pred_nn * (max(d$loyer_mois) - min(d$loyer_mois)) + min(d$loyer_mois)"
   ]
  },
  {
   "cell_type": "code",
   "execution_count": 60,
   "metadata": {},
   "outputs": [],
   "source": [
    "y = dtest[,5] * (max(d$loyer_mois) - min(d$loyer_mois)) + min(d$loyer_mois)"
   ]
  },
  {
   "cell_type": "markdown",
   "metadata": {},
   "source": [
    "Nous pouvons maintenant estimer le $R^2$ avec la fonction `postResample`:"
   ]
  },
  {
   "cell_type": "code",
   "execution_count": 61,
   "metadata": {},
   "outputs": [
    {
     "data": {
      "text/html": [
       "<dl class=dl-horizontal>\n",
       "\t<dt>RMSE</dt>\n",
       "\t\t<dd>692.362236383084</dd>\n",
       "\t<dt>Rsquared</dt>\n",
       "\t\t<dd>0.586412133498682</dd>\n",
       "\t<dt>MAE</dt>\n",
       "\t\t<dd>405.768834103498</dd>\n",
       "</dl>\n"
      ],
      "text/latex": [
       "\\begin{description*}\n",
       "\\item[RMSE] 692.362236383084\n",
       "\\item[Rsquared] 0.586412133498682\n",
       "\\item[MAE] 405.768834103498\n",
       "\\end{description*}\n"
      ],
      "text/markdown": [
       "RMSE\n",
       ":   692.362236383084Rsquared\n",
       ":   0.586412133498682MAE\n",
       ":   405.768834103498\n",
       "\n"
      ],
      "text/plain": [
       "       RMSE    Rsquared         MAE \n",
       "692.3622364   0.5864121 405.7688341 "
      ]
     },
     "metadata": {},
     "output_type": "display_data"
    }
   ],
   "source": [
    "postResample(yhat, y)"
   ]
  },
  {
   "cell_type": "markdown",
   "metadata": {},
   "source": [
    "Nous obtenons une valeur d'environ 0.58, donc un peu meilleur mais loin d'être bon."
   ]
  },
  {
   "cell_type": "markdown",
   "metadata": {},
   "source": [
    "À partir de là, vous pouvez essayer de changer un peu l'architecture du réseau, ou encore d'enlever des variables, afin d'optimiser le modèle."
   ]
  }
 ],
 "metadata": {
  "kernelspec": {
   "display_name": "R",
   "language": "R",
   "name": "ir"
  },
  "language_info": {
   "codemirror_mode": "r",
   "file_extension": ".r",
   "mimetype": "text/x-r-source",
   "name": "R",
   "pygments_lexer": "r",
   "version": "3.6.1"
  }
 },
 "nbformat": 4,
 "nbformat_minor": 2
}
