{
 "cells": [
  {
   "cell_type": "markdown",
   "metadata": {},
   "source": [
    "# Échantionnage en statistique"
   ]
  },
  {
   "cell_type": "markdown",
   "metadata": {},
   "source": [
    "En géographie on étudie les aspects liés à l'espace de phénomènes humains et naturels. Pour pouvoir mener ces études de manière scientifique, des relevés de données sont nécessaires. Nous pouvons distinguer deux catégories de relevés:\n",
    "\n",
    "- des __relevés complets__ qui prennent en compte ___l'ensemble de la population___ (c'est une population dans le sens statistique, nous en parlerons un peu plus loin)\n",
    "- des __relevés partiels__ qui prennent en compte uniquement une partie de la population (un ___échantillon___)\n",
    "\n",
    "Un relevé complet est possible uniquement dans de rares circomstances, p.ex. dans le cadre d'un recensement de la population ou d'entreprises, et ceci pour un nombre très limité de variables.\n",
    "\n",
    "Pour d'autres phénomènes, p.ex. la récolte de données naturelles (climat, espèces animales, etc.), un relevé complet n'est même pas praticable.\n",
    "\n",
    "En conséquence, on est souvent obligé de recourir à des relevé par échantillons. La statistique définit les principes d'échantillonage afin de garantir la fiabilité des résultats et estimer la représentativité des conclusions. __L'échantillonage est essentiel dans le processus scientifique.__\n",
    "\n",
    "L'échantillonage permet de récolter des données de manière rapide et relativement peu couteuse, p.ex. à l'aide de questionnaires. Ainsi, nous pouvons obtenir une image relativement détaillée de notre population étudiée.\n",
    "\n",
    "En statistique, nous parlons de __population__ pour nous référer aux individus du phénomène étudié. Ceci peut être la _population d'une espèce animale_, ou la _population de toutes les communes suisses_.\n",
    "\n",
    "En plus, en géographie, nous allons définir une __région d'étude__ qui contient notre population d'étude.\n",
    "\n",
    "La statistique ne s'applique pas seulement à la géographie humaine, mais aussi à la géographie physique, aux études du développement etc.\n",
    "\n",
    "Pour assurer une bonne représentativité d'un échantillon, il doit être sélectionné avec beaucoup d'attention, et la taille de l'échantillon doit être suffisant.\n",
    "\n",
    "En gros: _plus l'échantillon est grand, moins il y a de l'imprécision, mais plus il y a de l'effort à fournir pour récolter les données._ Nous devons donc trouver une bonne balance entre imprécision et effort, et surtout nous devons estimer les imprécisions à l'aide de méthodes statistiques."
   ]
  },
  {
   "cell_type": "markdown",
   "metadata": {},
   "source": [
    "## Statistique descriptive sur la base d'un échantillon"
   ]
  },
  {
   "cell_type": "markdown",
   "metadata": {},
   "source": [
    "Si on veut estimer des valeurs de statistique descriptive comme la moyenne, l'écart-type etc. d'une population sur la base d'un échantillon de cette population, on n'aura généralement pas les valeurs exactes, mais une approximation plus ou moins bonne. En plus de calculer la meilleure approximation possible, nous allons également calculer l'intervalle de confiance, qui nous donne l'intervalle dans lequel la _\"vraie valeur\"_ se situe avec une probabilité donnée.\n",
    "\n",
    "Afin d'illustrer nos propos, prenons un exemple. Supposons que nous avons une population de 20 individus (p.ex. une classe d'école), ce qui représente dans notre cas la _population complète_ car nous limitons notre étude sur ces personnes. La taille en centimètres de chaque personne est comme suit:\n",
    "\n",
    "\t157 158 159 159 161 \n",
    "\t164 164 170 171 174\n",
    "\t176 178 181 182 183 \n",
    "\t184 185 189 191 199\n",
    "\n",
    "Nous pouvons calculer la taille __moyenne__:\n",
    "\n",
    "$$\\mu = \\frac{1}{N} \\sum_i^N X_i = \\frac{1}{20} \\cdot 3485 = 174.25$$\n",
    "\n",
    "Et __l'écart-type__:\n",
    "\n",
    "$$\\sigma = \\sqrt{\\frac{1}{N} \\sum_i^N (X_i - \\mu)^2} \\approx 12.17$$\n",
    "\n",
    "Maintenant supposons qu'au lieu de mesurer la taille de tous les 20 individus, nous mesurons uniquement la taille de 5 personnes, et nous estimons la taille moyenne et l'écart-type des 20 personnes à partir de l'échantillon des 5 personnes. Nous sélectionnons donc un échantillon aléatoire:\n",
    "\n",
    "\t159 164 164 183 184\n",
    "\n",
    "(c'est important que l'échantillon soit aléatoire!)\n",
    "\n",
    "La __meilleure estimation pour la moyenne__ $\\mu$ de la population est la moyenne arithmétique:\n",
    "\n",
    "$$\\bar X = \\frac{1}{n} \\sum_i^n X_i = 170.8$$\n",
    "\n",
    "(notez la différence dans les symboles utilisés: $\\bar X$ au lieu de $\\mu$ et $n$ au lieu de $N$).\n",
    "\n",
    "La __meilleure estimation pour l'écart-type de la population__ à partir des données de l'échantillon est donnée par la formule suivante:\n",
    "\n",
    "$$s = \\sqrt{\\frac{1}{n-1} \\sum_i^n (X_i - \\bar X)^2}$$\n",
    "\n",
    "Notez que nous divisons par $(n-1)$ au lieu de diviser par $n$, ainsi que les différences dans l'utilisation des symboles. Ceci nous donne une estimation de $11.78$ pour l'écart-type (avec une division par $n$ au lieu de $(n-1)$, le résultat serait de $10.53$, ce qui est clairement moins bien).\n",
    "\n",
    "La moyenne et l'écart-type calculés à partir de l'échantillon ne correspondent évidemment pas exactement aux valeurs de la population entière. En réalité, les valeurs pour la population entière ne sont généralement pas connues, et nous devons estimer l'intervalle dans lequel la vraie valeur se situe, avec une probabilité donnée. C'est __l'intervalle de confiance__.\n",
    "\n",
    "--\n",
    "\n",
    "**TODO**: Décrire le calcul de l'intervalle de confiance.  \n"
   ]
  },
  {
   "cell_type": "markdown",
   "metadata": {},
   "source": [
    " "
   ]
  }
 ],
 "metadata": {
  "kernelspec": {
   "display_name": "R",
   "language": "R",
   "name": "ir"
  },
  "language_info": {
   "codemirror_mode": "r",
   "file_extension": ".r",
   "mimetype": "text/x-r-source",
   "name": "R",
   "pygments_lexer": "r",
   "version": "3.2.4"
  },
  "latex_envs": {
   "LaTeX_envs_menu_present": true,
   "bibliofile": "biblio.bib",
   "cite_by": "apalike",
   "current_citInitial": 1,
   "eqLabelWithNumbers": true,
   "eqNumInitial": 1,
   "labels_anchors": false,
   "latex_user_defs": false,
   "report_style_numbering": false,
   "user_envs_cfg": false
  }
 },
 "nbformat": 4,
 "nbformat_minor": 2
}
