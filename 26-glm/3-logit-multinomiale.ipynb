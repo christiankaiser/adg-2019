{
 "cells": [
  {
   "cell_type": "markdown",
   "metadata": {},
   "source": [
    "# Régression logistique multinomiale"
   ]
  },
  {
   "cell_type": "markdown",
   "metadata": {},
   "source": [
    "Nous avons déjà vu la régression logistique binomiale où la variable dépendante est de nature catégorielle avec 2 classes possibles.\n",
    "\n",
    "Avec une **régression logistique multinomiale**, nous pouvons aussi traiter le cas d'une variable catégorielle avec n'importe quel nombre de classes.\n",
    "\n",
    "Si notre variable dépendante est de nature ordinale (c'est-à-dire des catégories avec un ordre bien établi), nous allons opter pour une **régression logistique ordinale**."
   ]
  },
  {
   "cell_type": "markdown",
   "metadata": {},
   "source": [
    "Pour calculer une régression logistique multinomiale dans R, nous avons plusieurs choix de fonctions à disposition, dans des libraires différentes. En raison de sa relative simplicité, nous allons utiliser ici la libraire [__nnet__](https://cran.r-project.org/web/packages/nnet) et plus spécifiquement la fonction __multinom__.\n",
    "\n",
    "Nous pouvons charger la libraire avec"
   ]
  },
  {
   "cell_type": "code",
   "execution_count": 1,
   "metadata": {
    "collapsed": true
   },
   "outputs": [],
   "source": [
    "library(nnet)"
   ]
  },
  {
   "cell_type": "markdown",
   "metadata": {},
   "source": [
    "et si ça donne une erreur disant que la libraire n'est pas disponible, nous l'installons d'abord avec:"
   ]
  },
  {
   "cell_type": "code",
   "execution_count": null,
   "metadata": {
    "collapsed": false
   },
   "outputs": [],
   "source": [
    "install.packages(c(\"nnet\"))"
   ]
  },
  {
   "cell_type": "markdown",
   "metadata": {},
   "source": [
    "Comme exemple concret, nous reprenons le même exemple que celui pour la régression logistique, mais cette fois en utilisant les 3 catégories pour la variable dépendante. Pour rappel, nous essayons de prédire la typologie de la région selon l'une des 3 catégories suivante:\n",
    "\n",
    "- Centres urbains\n",
    "- Espaces sous influence des centres urbains\n",
    "- Espaces hors influence des centres urbains\n",
    "\n",
    "Pour des raisons pratiques, nous avons ajouté une colonne avec un libellé plus court, à savoir \"CENTRE\", \"AGGLO\" et \"RURAL\".\n",
    "\n",
    "Les variable indépendantes sont:\n",
    "\n",
    "- **NADHO**: proportion de femmes et hommes de ménage\n",
    "- **NADRET**: proportion de personnes actives à la retraite\n",
    "- **AD3PRIM**: proportion de personnes actives dans le secteur primaire\n",
    "- **AD3SEC**: proportion de personnes actives dans le secteur secondaire"
   ]
  },
  {
   "cell_type": "markdown",
   "metadata": {},
   "source": [
    "Il faut encore noter que nos variables dépendantes doivent avoir grosso modo des valeurs entre 0 et 1. Étant donné que nous avons des proportions, ceci est déjà donné. Dans d'autres cas, il faut faire un petit calcul de transformation."
   ]
  },
  {
   "cell_type": "markdown",
   "metadata": {},
   "source": [
    "Comme d'habitude, nous commençons par la lecture du tableau de données:"
   ]
  },
  {
   "cell_type": "code",
   "execution_count": 9,
   "metadata": {
    "collapsed": false
   },
   "outputs": [],
   "source": [
    "d = read.csv(file=\"ch-socioeco-typologie.tsv\", sep=\"\\t\")"
   ]
  },
  {
   "cell_type": "markdown",
   "metadata": {},
   "source": [
    "Nous regardons de plus près la variable dépendante:"
   ]
  },
  {
   "cell_type": "code",
   "execution_count": 10,
   "metadata": {
    "collapsed": false
   },
   "outputs": [
    {
     "data": {
      "text/html": [
       "<dl class=dl-horizontal>\n",
       "\t<dt>AGGLO</dt>\n",
       "\t\t<dd>291</dd>\n",
       "\t<dt>CENTRE</dt>\n",
       "\t\t<dd>849</dd>\n",
       "\t<dt>RURAL</dt>\n",
       "\t\t<dd>225</dd>\n",
       "</dl>\n"
      ],
      "text/latex": [
       "\\begin{description*}\n",
       "\\item[AGGLO] 291\n",
       "\\item[CENTRE] 849\n",
       "\\item[RURAL] 225\n",
       "\\end{description*}\n"
      ],
      "text/markdown": [
       "AGGLO\n",
       ":   291CENTRE\n",
       ":   849RURAL\n",
       ":   225\n",
       "\n"
      ],
      "text/plain": [
       " AGGLO CENTRE  RURAL \n",
       "   291    849    225 "
      ]
     },
     "metadata": {},
     "output_type": "display_data"
    }
   ],
   "source": [
    "summary(d$typologie_ofs_court)"
   ]
  },
  {
   "cell_type": "markdown",
   "metadata": {},
   "source": [
    "À partir du jeux de données initial, nous créons un jeu de données de calibrage (_training data_), et un jeu de données de test pour la validation. Le jeux de données de calibrage contient un échantillon aléatoire avec le 90% des données."
   ]
  },
  {
   "cell_type": "code",
   "execution_count": 18,
   "metadata": {
    "code_folding": [],
    "collapsed": true
   },
   "outputs": [],
   "source": [
    "idx = sample(nrow(d), size=0.9*nrow(d))\n",
    "dtrain = d[idx,]\n",
    "dtest = d[-idx,]"
   ]
  },
  {
   "cell_type": "markdown",
   "metadata": {},
   "source": [
    "Nous pouvons maintenant calculer la régression logistique multinomiale:"
   ]
  },
  {
   "cell_type": "code",
   "execution_count": 19,
   "metadata": {
    "collapsed": false
   },
   "outputs": [
    {
     "name": "stdout",
     "output_type": "stream",
     "text": [
      "# weights:  18 (10 variable)\n",
      "initial  value 1349.095890 \n",
      "iter  10 value 698.883679\n",
      "iter  20 value 682.951382\n",
      "iter  30 value 682.800403\n",
      "final  value 682.799559 \n",
      "converged\n"
     ]
    }
   ],
   "source": [
    "regmlogit = multinom(typologie_ofs_court ~ NADHO + NADRET + AD3PRIM + AD3SEC, data=dtrain)"
   ]
  },
  {
   "cell_type": "markdown",
   "metadata": {},
   "source": [
    "et puis afficher l'information sur les coefficients, la déviance et l'AIC, comme déjà pour la régression logistique binomiale:"
   ]
  },
  {
   "cell_type": "code",
   "execution_count": 20,
   "metadata": {
    "collapsed": false
   },
   "outputs": [
    {
     "data": {
      "text/plain": [
       "Call:\n",
       "multinom(formula = typologie_ofs_court ~ NADHO + NADRET + AD3PRIM + \n",
       "    AD3SEC, data = dtrain)\n",
       "\n",
       "Coefficients:\n",
       "       (Intercept)      NADHO   NADRET    AD3PRIM   AD3SEC\n",
       "CENTRE    3.103063 -20.055914 5.050562 -108.17131 1.323254\n",
       "RURAL    -5.706587  -1.494709 6.699037   26.19042 8.884455\n",
       "\n",
       "Std. Errors:\n",
       "       (Intercept)    NADHO   NADRET  AD3PRIM   AD3SEC\n",
       "CENTRE   0.5278389 3.912453 1.287680 7.456027 1.279616\n",
       "RURAL    0.7381347 4.577601 1.501593 4.353030 1.577600\n",
       "\n",
       "Residual Deviance: 1365.599 \n",
       "AIC: 1385.599 "
      ]
     },
     "metadata": {},
     "output_type": "display_data"
    }
   ],
   "source": [
    "summary(regmlogit)"
   ]
  },
  {
   "cell_type": "markdown",
   "metadata": {},
   "source": [
    "Nous avons en fait 2 modèles différents, l'un pour chacune des catégories, sauf pour une catégorie. Ceci est dû au fait que nous estimons des probabilités pour chacune des catégories, et que la somme des probabilités doit obligatoirement donner 1. En conséquence, une fois que nous avons calculé la probabilité pour deux catégories, nous pouvons calculer celle de la dernière catégories avec un simple calcul."
   ]
  },
  {
   "cell_type": "markdown",
   "metadata": {},
   "source": [
    "Pour l'évaluation, nous pouvons faire un tableau comparatif simple entre les catégories prédites et les catégories effectives pour le jeu de données de calibrage et celui de test:"
   ]
  },
  {
   "cell_type": "code",
   "execution_count": 25,
   "metadata": {
    "collapsed": false
   },
   "outputs": [
    {
     "data": {
      "text/plain": [
       "        \n",
       "         AGGLO CENTRE RURAL\n",
       "  AGGLO    112     29    51\n",
       "  CENTRE   113    724    38\n",
       "  RURAL     40     13   108"
      ]
     },
     "metadata": {},
     "output_type": "display_data"
    }
   ],
   "source": [
    "table(predict(regmlogit, newdata=dtrain), dtrain$typologie_ofs_court)"
   ]
  },
  {
   "cell_type": "code",
   "execution_count": 23,
   "metadata": {
    "collapsed": false
   },
   "outputs": [
    {
     "data": {
      "text/plain": [
       "        \n",
       "         AGGLO CENTRE RURAL\n",
       "  AGGLO      6      3     6\n",
       "  CENTRE    18     77     9\n",
       "  RURAL      2      3    13"
      ]
     },
     "metadata": {},
     "output_type": "display_data"
    }
   ],
   "source": [
    "table(predict(regmlogit, newdata=dtest), dtest$typologie_ofs_court)"
   ]
  },
  {
   "cell_type": "markdown",
   "metadata": {},
   "source": [
    "Et nous pouvons calculer la proportion de régions classées correctement, pour les deux jeux de données:"
   ]
  },
  {
   "cell_type": "code",
   "execution_count": 26,
   "metadata": {
    "collapsed": true
   },
   "outputs": [],
   "source": [
    "accuracy_train = sum(predict(regmlogit, newdata=dtrain) == dtrain$typologie_ofs_court) / nrow(dtrain)\n",
    "accuracy_test = sum(predict(regmlogit, newdata=dtest) == dtest$typologie_ofs_court) / nrow(dtest)"
   ]
  },
  {
   "cell_type": "code",
   "execution_count": 27,
   "metadata": {
    "collapsed": false
   },
   "outputs": [
    {
     "data": {
      "text/html": [
       "0.768729641693811"
      ],
      "text/latex": [
       "0.768729641693811"
      ],
      "text/markdown": [
       "0.768729641693811"
      ],
      "text/plain": [
       "[1] 0.7687296"
      ]
     },
     "metadata": {},
     "output_type": "display_data"
    },
    {
     "data": {
      "text/html": [
       "0.700729927007299"
      ],
      "text/latex": [
       "0.700729927007299"
      ],
      "text/markdown": [
       "0.700729927007299"
      ],
      "text/plain": [
       "[1] 0.7007299"
      ]
     },
     "metadata": {},
     "output_type": "display_data"
    }
   ],
   "source": [
    "accuracy_train\n",
    "accuracy_test"
   ]
  },
  {
   "cell_type": "markdown",
   "metadata": {},
   "source": [
    "Nous avons donc environ 77% de réponses justes pour les données de calibration, et 70% pour la validation. C'est ce dernier chiffre qui représente au mieux la qualité du modèle. Notre modèle est donc au mieux médiocre..."
   ]
  },
  {
   "cell_type": "markdown",
   "metadata": {},
   "source": [
    "## NNet ??"
   ]
  },
  {
   "cell_type": "markdown",
   "metadata": {},
   "source": [
    "Pour notre régression logistique multinomiale, nous avons utilisé la libraire **[nnet](https://cran.r-project.org/web/packages/nnet)**. Il s'agit d'une libraire pour les réseau de neurones artificiels (Artificial Neural Network ANN). Donc comment ça se fait qu'on utilise une libraire pour les réseaux de neurones si on veut simplement faire une régression linéaire??\n",
    "\n",
    "En fait, on peut considérer la régression logistique comme étant un cas spécial simple d'un réseau de neurones... Et la fonction que nosu avons utilisé, `multinom` construit automatiquement un réseau de neurones en interne. **Nous avons donc bel et bien utilisé un réseau de neurones...**"
   ]
  }
 ],
 "metadata": {
  "kernelspec": {
   "display_name": "R",
   "language": "R",
   "name": "ir"
  },
  "language_info": {
   "codemirror_mode": "r",
   "file_extension": ".r",
   "mimetype": "text/x-r-source",
   "name": "R",
   "pygments_lexer": "r",
   "version": "3.2.4"
  },
  "latex_envs": {
   "LaTeX_envs_menu_present": true,
   "bibliofile": "biblio.bib",
   "cite_by": "apalike",
   "current_citInitial": 1,
   "eqLabelWithNumbers": true,
   "eqNumInitial": 1,
   "labels_anchors": false,
   "latex_user_defs": false,
   "report_style_numbering": false,
   "user_envs_cfg": false
  }
 },
 "nbformat": 4,
 "nbformat_minor": 2
}
