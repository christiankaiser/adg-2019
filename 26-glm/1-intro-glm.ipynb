{
 "cells": [
  {
   "cell_type": "markdown",
   "metadata": {},
   "source": [
    "# Introduction aux GLMs"
   ]
  },
  {
   "cell_type": "markdown",
   "metadata": {},
   "source": [
    "Pour rappel, une simple régression linéaire a le format suivant:\n",
    "\n",
    "$y_i = \\beta_0 + \\beta_1 x_1 + \\epsilon_i$\n",
    "\n",
    "Ce type de modèle est très simple mais souvent suffisant. Par contre, dans certaines situation, un modèle linéaire simple n'est pas approprié, notamment:\n",
    "\n",
    "- si les valeurs acceptables pour la variable dépendante sont limitées (p.ex. des chiffres entiers seulement, ou des catégories)\n",
    "- si la variance de la variable dépendante dépend de la moyenne\n",
    "\n",
    "Les modèles linéaires généralisés (Generalized Linear Models, GLM) permettent de faire face à ces situations."
   ]
  },
  {
   "cell_type": "markdown",
   "metadata": {},
   "source": [
    "Un modèle linéaire généralisé est composé de 3 éléments:\n",
    "\n",
    "1. Une **prediction linéaire** du style\n",
    "$$\\eta_1 = \\beta_0 + \\beta_1 x_{1i} + \\dots + \\beta_p x_{pi}$$\n",
    "\n",
    "2. Une **fonction de lien** (_«link function»_) qui détermine comment la prédiction $\\eta_i$ est liée à l'espérence $E(Y_i)$ (la moyenne $\\mu_i$):\n",
    "$$g(\\mu_i) = \\eta_i$$\n",
    "\n",
    "3. une **fonction de variance** qui décrit comment la variance de $Y_i$ est liée à la moyenne:\n",
    "    $$var(Y_i) = \\phi V(\\mu)$$\n",
    "    ($\\phi$ est une constante appelée le paramètre de dispersion)\n",
    "\n",
    "De cette manière, à travers la fonction de lien, nous pouvons avoir des régressions qui ne sont pas linéaires, mais où le modèle est toujours une combinaison linéaire de paramètres.\n",
    "\n",
    "Nous pouvons en principe obtenir un modèle linéaire simple (**modèle linéaire général**) _(attention: général ≠ généralisé)_ avec la fonction de lien $g(\\mu_i) = \\mu_i$ et la fonction de variance $V(\\mu_i) = 1$.\n",
    "\n",
    "Avec une fonction de lien $g(\\mu) = log(\\mu)$, nous pouvons faire la régression linéaire sur le logarithme de la variable dépendante; nous parlons alors d'un **modèle log-linéaire**.\n",
    "\n",
    "Si la fonction de lien prend la forme $g(\\mu) = log(\\frac{\\mu}{1-\\mu})$, nous parlons d'un **modèle logit** (régression logistique), qui permet de modéliser la probabilité binomiale."
   ]
  },
  {
   "cell_type": "markdown",
   "metadata": {},
   "source": [
    "## Types de GLM"
   ]
  },
  {
   "cell_type": "markdown",
   "metadata": {},
   "source": [
    "Dans la pratique, nous allons rencontrer les situations suivantes qui permettent l'application d'un modèle linéaire généralisé:\n",
    "\n",
    "| | Type de variable | Distribution | Type de GLM | Fonction de lien |\n",
    "|-|------------------|--------------|-------------|------------------|\n",
    "|1| Variable continue suivant une loi normale | Normale | Modèle linéaire simple | Identité: $g(\\mu) = \\mu$ |\n",
    "|2| Variable représentant un comptage (nombres entiers positifs) | Poisson | Modèle log-linéaire | Log: $g(\\mu) = log(\\mu)$ |\n",
    "|3| Pourcentages, probabilités (2 classes) | Binomiale | Régression logistique | Logit: $g(\\mu) = log(\\frac{\\mu}{1-\\mu})$ |\n",
    "|4| Probabilités ($k$ classes) | Multinomiale | Régression logiqtique | Logit: $g(\\mu) = log(\\frac{\\mu}{1-\\mu})$ |\n",
    "|5| Variable continue positive (p.ex. des durées) | Gamma | Modèle Gamma avec fonction de lien inverse | Inverse: $g(\\mu) = \\frac{1}{\\mu}$ |\n",
    "\n",
    "Généralement, il suffit presque de savoir quel type de variable nous avons, et de choisir le modèle en fonction..."
   ]
  },
  {
   "cell_type": "markdown",
   "metadata": {},
   "source": [
    "Le cas du **GLM** en «mode» **modèle linéaire simple** est identique à la régression linéaire ordinaire que nous avons déjà vu, à part pour le mode de calcul qui est différent (méthodes des moindres carrés ordinaires pour la régression classique, et le maximum de vraisemblance dans le cas du GLM), ce qui a des implications notamment sur l'interprétation (calcul du $R^2$ ou non). Ici, nous ne traitons donc pas ce cas particulier des GLM.\n",
    "\n",
    "Nous avons également déjà traité le cas du GLM en «mode» **régression logistique**.\n",
    "\n",
    "Le cas de la **régression logistique multinomiale** n'est pas couvert par la fonction `glm` dans R. Nous allons utiliser une approche alternative qui est décrite dans [3-logit-multinomiale.ipynb](3-logit-multinomiale.ipynb)."
   ]
  },
  {
   "cell_type": "markdown",
   "metadata": {},
   "source": [
    "### Régression de Poisson"
   ]
  },
  {
   "cell_type": "markdown",
   "metadata": {},
   "source": [
    "La régression de Poisson est utilisée pour les données de comptages, qui sont des nombres entiers non-négatifs. Nous pouvons utiliser ce type de régression par exemple pour estimer des fréquences, ou les changements dans la fréquentation d'un lieu suite à une intervention (construction de nouveaux logements ou de magasins, etc.).\n",
    "\n",
    "Pour utiliser une régression de Poisson, la variable dépendante doit suivre une distribution de Poisson. La forme de cette distribution peut varier en fonction d'un paramètre $\\lambda$ et prendre les formes suivantes:\n",
    "\n",
    "<img src=\"https://upload.wikimedia.org/wikipedia/commons/thumb/1/16/Poisson_pmf.svg/650px-Poisson_pmf.svg.png\" style=\"max-width: 400px;\" />  \n",
    "<p style=\"text-align: center; font-size: 80%\"><i>Source: https://commons.wikimedia.org/wiki/File:Poisson_pmf.svg</i></p>"
   ]
  },
  {
   "cell_type": "markdown",
   "metadata": {},
   "source": [
    "Dans R, le calcul se fait évidemment avec la fonction `glm`, où seul le paramètre `family` change:\n",
    "\n",
    "```R\n",
    "glm(..., family=poisson(link=\"log\"), data=...)\n",
    "```"
   ]
  },
  {
   "cell_type": "markdown",
   "metadata": {},
   "source": [
    "En raison du type de données de la variable dépendante, des nombres entiers, la régression de Poisson est parfois utilisé pour estimer les flux entres régions, notamment à travers les **modèles d'interaction spatiale**, dont le modèle gravitaire est le représentant le plus simple.\n",
    "\n",
    "Rappelons-nous qu'un modèle d'interaction spatiale peut prendre la forme suivante:\n",
    "\n",
    "$$T_{ij} = k \\cdot P_i^\\lambda \\cdot P_j^\\alpha \\cdot d_{ij}^{-\\beta}$$\n",
    "\n",
    "où\n",
    "\n",
    "- $T_{ij}$ est le nombre de flux entre régions à estimer\n",
    "- $P_i$ est la population à l'origine\n",
    "- $P_j$ est la population à la destination\n",
    "- $d_{ij}$ est la distance ou le coût entre régions\n",
    "- $k$, $\\lambda$, $\\alpha$ et $\\beta$ sont des paramètres à trouver avec la calibration\n",
    "\n",
    "Ce modèle peut être transformé en modèle linéaire en prenant le logarithme:\n",
    "\n",
    "$$\\ln T_{ij} = k + \\lambda \\ln P_i + \\alpha \\ln P_j - \\beta \\ln d_{ij}$$\n",
    "\n",
    "ce qui est maintenant un modèle linéaire que nous pouvons calibrer avec la méthode GLM."
   ]
  },
  {
   "cell_type": "markdown",
   "metadata": {},
   "source": [
    "### Régression Gamma"
   ]
  },
  {
   "cell_type": "markdown",
   "metadata": {},
   "source": [
    "Si la variable dépendante suit une distribution Gamma, on peut utiliser un modèle GLM en mode «régression Gamma». La forme de la distribution Gamma peut varier en fonction de 2 paramètres, $k$ et $\\theta$:\n",
    "\n",
    "<img src=\"https://upload.wikimedia.org/wikipedia/commons/thumb/e/e6/Gamma_distribution_pdf.svg/650px-Gamma_distribution_pdf.svg.png\" style=\"max-width: 450px;\" />\n",
    "<p style=\"font-size: 80%; text-align: center;\"><i>Source: https://commons.wikimedia.org/wiki/File:Gamma_distribution_pdf.svg</i></p>\n",
    "\n",
    "La distribution Gamma ne permet donc pas de valeurs négatives. Souvent, des données quantitatives non-négatives suivent une distribution Gamma. Un exemple où la régression Gamma a déjà été utilisée est l'estimation la quantité de pluie lors d'une journée pluvieuse.\n",
    "\n",
    "Dans R, la régression Gamma ne se distingue que par le paramètre `family` dans la fonction `glm`:\n",
    "\n",
    "```R\n",
    "glm(..., family=Gamma(link=\"inverse\"), data=...)\n",
    "```"
   ]
  }
 ],
 "metadata": {
  "kernelspec": {
   "display_name": "R",
   "language": "R",
   "name": "ir"
  },
  "language_info": {
   "codemirror_mode": "r",
   "file_extension": ".r",
   "mimetype": "text/x-r-source",
   "name": "R",
   "pygments_lexer": "r",
   "version": "3.2.4"
  },
  "latex_envs": {
   "LaTeX_envs_menu_present": true,
   "bibliofile": "biblio.bib",
   "cite_by": "apalike",
   "current_citInitial": 1,
   "eqLabelWithNumbers": true,
   "eqNumInitial": 1,
   "labels_anchors": false,
   "latex_user_defs": false,
   "report_style_numbering": false,
   "user_envs_cfg": false
  }
 },
 "nbformat": 4,
 "nbformat_minor": 2
}
