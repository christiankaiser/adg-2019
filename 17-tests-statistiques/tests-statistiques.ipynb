{
 "cells": [
  {
   "cell_type": "markdown",
   "metadata": {},
   "source": [
    "# Tests statistiques"
   ]
  },
  {
   "cell_type": "markdown",
   "metadata": {
    "heading_collapsed": true
   },
   "source": [
    "## 1. Comparaison de la moyenne pour un échantillon"
   ]
  },
  {
   "cell_type": "markdown",
   "metadata": {
    "hidden": true
   },
   "source": [
    "Ce type de test est appelé en anglais _«one-sample difference of means test»_."
   ]
  },
  {
   "cell_type": "markdown",
   "metadata": {
    "heading_collapsed": true,
    "hidden": true
   },
   "source": [
    "### 1.1 Pour un échantillon suivant une loi normale"
   ]
  },
  {
   "cell_type": "markdown",
   "metadata": {
    "hidden": true
   },
   "source": [
    "Nous allons utiliser le __test de Student__ (test de t) pour évaluer si un échantillon donné possède une moyenne connue.\n",
    "\n",
    "Ce type de test est par exemple utile pour évaluer si la moyenne d'un échantillon correspond à la moyenne de l'ensemble de la population, c'est-à-dire si l'échantillon est représentatif par rapport à une caractérstique donnée.\n",
    "\n",
    "Le test assume que les conditions suivantes sont vraies:\n",
    "- l'échantillon suit une loi normale (peut être testé avec un test de Kolmogorov-Smirnov (voir plus loin)\n",
    "- la variance est la même que pour la population de référence"
   ]
  },
  {
   "cell_type": "markdown",
   "metadata": {
    "hidden": true
   },
   "source": [
    "___Exemple:___ nous aimerions savoir si la proportion de jeunes dans les régions Z05 du canton de Fribourg est la même que pour toute la Suisse."
   ]
  },
  {
   "cell_type": "markdown",
   "metadata": {
    "hidden": true
   },
   "source": [
    "Dans un premier temps, nous calculons la moyenne de jeunes de moins de 20 ans pour toutes les région Z05 de Suisse:"
   ]
  },
  {
   "cell_type": "code",
   "execution_count": 1,
   "metadata": {
    "collapsed": false,
    "hidden": true,
    "scrolled": true
   },
   "outputs": [
    {
     "data": {
      "text/html": [
       "0.210159452094786"
      ],
      "text/latex": [
       "0.210159452094786"
      ],
      "text/markdown": [
       "0.210159452094786"
      ],
      "text/plain": [
       "[1] 0.2101595"
      ]
     },
     "metadata": {},
     "output_type": "display_data"
    }
   ],
   "source": [
    "dch = read.csv(file=\"../data/stats/demo.tsv\", sep=\"\\t\")\n",
    "dch$jeunes = (dch$P0004M + dch$P0004F + dch$P0509M + dch$P0509F + dch$P1014M + dch$P1014F + dch$P1519M + dch$P1519F) / (dch$PTOT)\n",
    "mean(dch$jeunes)"
   ]
  },
  {
   "cell_type": "markdown",
   "metadata": {
    "hidden": true
   },
   "source": [
    "Et maintenant nous calculons également la moyenne pour le canton de Fribourg:"
   ]
  },
  {
   "cell_type": "code",
   "execution_count": 2,
   "metadata": {
    "collapsed": false,
    "hidden": true
   },
   "outputs": [
    {
     "data": {
      "text/html": [
       "0.242009985776098"
      ],
      "text/latex": [
       "0.242009985776098"
      ],
      "text/markdown": [
       "0.242009985776098"
      ],
      "text/plain": [
       "[1] 0.24201"
      ]
     },
     "metadata": {},
     "output_type": "display_data"
    }
   ],
   "source": [
    "dfr = read.csv(file=\"demo-fribourg.tsv\", sep=\"\\t\")\n",
    "dfr$jeunes = (dfr$P0004M + dfr$P0004F + dfr$P0509M + dfr$P0509F + dfr$P1014M + dfr$P1014F + dfr$P1519M + dfr$P1519F) / (dfr$PTOT)\n",
    "mean(dfr$jeunes)"
   ]
  },
  {
   "cell_type": "markdown",
   "metadata": {
    "hidden": true
   },
   "source": [
    "Nous avons donc une proportion de 24.2% de jeunes dans le canton de Fribourg, contre 21.0% en Suisse. Faisons le test pour savoir si cette différence est significative...\n",
    "\n",
    "L'hypothèse à tester peut être formulée ainsi:\n",
    "\n",
    "$H_0: \\mu = 0.21016$  \n",
    "$H_1: \\mu \\neq 0.21016$\n",
    "\n",
    "Dans R, nous pouvons effectuer le test comme suit:"
   ]
  },
  {
   "cell_type": "code",
   "execution_count": 3,
   "metadata": {
    "collapsed": false,
    "hidden": true
   },
   "outputs": [
    {
     "data": {
      "text/plain": [
       "\n",
       "\tOne Sample t-test\n",
       "\n",
       "data:  dfr$jeunes\n",
       "t = 7.4796, df = 47, p-value = 1.538e-09\n",
       "alternative hypothesis: true mean is not equal to 0.2101595\n",
       "95 percent confidence interval:\n",
       " 0.2334434 0.2505766\n",
       "sample estimates:\n",
       "mean of x \n",
       "  0.24201 \n"
      ]
     },
     "metadata": {},
     "output_type": "display_data"
    }
   ],
   "source": [
    "t.test(dfr$jeunes, mu=0.210159452094786)"
   ]
  },
  {
   "cell_type": "markdown",
   "metadata": {
    "hidden": true
   },
   "source": [
    "La valeur p étant très proche de 0 (la valeur `1.538e-09` doit être interprétée comme $1.538 \\cdot 10^{-9}$ ce qui est extrêment proche de 0; en fait c'est 0.000000001538 !!!), et donc la probabilité de commettre une erreur de type I étant quasiment nulle, nous rejetons l'hypothèse $H_0$.\n",
    "\n",
    "Par ailleurs, R nous donne une indication en disant que l'hypothèse alternative est juste, avec la vraie moyenne n'étant pas 0.2101595.\n",
    "\n",
    "___Conclusion:___ La moyenne de jeunes dans les région Z05 est donc significativement différente dans le canton de Fribourg que dans toute la Suisse."
   ]
  },
  {
   "cell_type": "markdown",
   "metadata": {
    "hidden": true
   },
   "source": [
    "Dans le test précédent, nous avons testé avec l'hypothèse $H_1 \\neq 0.21016$. Nous pouvons aussi faire une test avec:\n",
    "\n",
    "$H_0: \\mu = 0.21016$  \n",
    "$H_1: \\mu > 0.21016$"
   ]
  },
  {
   "cell_type": "code",
   "execution_count": 4,
   "metadata": {
    "collapsed": false,
    "hidden": true,
    "scrolled": false
   },
   "outputs": [
    {
     "data": {
      "text/plain": [
       "\n",
       "\tOne Sample t-test\n",
       "\n",
       "data:  dfr$jeunes\n",
       "t = 7.4796, df = 47, p-value = 7.689e-10\n",
       "alternative hypothesis: true mean is greater than 0.2101595\n",
       "95 percent confidence interval:\n",
       " 0.2348649       Inf\n",
       "sample estimates:\n",
       "mean of x \n",
       "  0.24201 \n"
      ]
     },
     "metadata": {},
     "output_type": "display_data"
    }
   ],
   "source": [
    "t.test(dfr$jeunes, mu=0.210159452094786, alternative=\"greater\")"
   ]
  },
  {
   "cell_type": "markdown",
   "metadata": {
    "hidden": true
   },
   "source": [
    "avec évidemment la même conclusion qu'avant."
   ]
  },
  {
   "cell_type": "markdown",
   "metadata": {
    "heading_collapsed": true,
    "hidden": true
   },
   "source": [
    "### 1.2 Pour un échantillon ne suivant pas une loi normale"
   ]
  },
  {
   "cell_type": "markdown",
   "metadata": {
    "hidden": true
   },
   "source": [
    "Si nous ne pouvons pas utiliser le test de Student pour évaluer si un échantillon donné possède une moyenne connue, nous utilisons le test de Wilcox à la place. Ceci est notamment le cas si un échantillon ne suit pas une loi normale.\n",
    "\n",
    "Étant donné la grande similitude avec le test paramétrique, nous faisons ici juste l'exemple unilatéral, avec les hypothèses suivantes:\n",
    "\n",
    "$H_0$ : $\\mu = 0.21016$\n",
    "\n",
    "$H_1$ : $\\mu > 0.21016$\n",
    "\n",
    "Le test peut être calculé comme suit dans R:"
   ]
  },
  {
   "cell_type": "code",
   "execution_count": 27,
   "metadata": {
    "collapsed": false,
    "hidden": true
   },
   "outputs": [
    {
     "data": {
      "text/plain": [
       "\n",
       "\tWilcoxon signed rank test\n",
       "\n",
       "data:  dfr$jeunes\n",
       "V = 1101, p-value = 1.764e-09\n",
       "alternative hypothesis: true location is greater than 0.2101595\n"
      ]
     },
     "metadata": {},
     "output_type": "display_data"
    }
   ],
   "source": [
    "wilcox.test(x=dfr$jeunes, mu=0.210159452094786, alternative=\"greater\")"
   ]
  },
  {
   "cell_type": "markdown",
   "metadata": {
    "hidden": true
   },
   "source": [
    "où la valeur p est proche de 0, et du coup la probabilité de commettre une erreur en rejetant $H_0$ est très faible. En conséquence, nous concluons, comme plus haut déjà, que la proportion de jeunes dans le canton de Fribourg est en moyenne significativement plus élvée que dans la Suisse entière."
   ]
  },
  {
   "cell_type": "markdown",
   "metadata": {
    "heading_collapsed": true
   },
   "source": [
    "## 2. Comparer les moyennes de deux échantillons indépendants"
   ]
  },
  {
   "cell_type": "markdown",
   "metadata": {
    "hidden": true
   },
   "source": [
    "Ce type de test est appelé en anglais _«two-sample difference of means test»_."
   ]
  },
  {
   "cell_type": "markdown",
   "metadata": {
    "heading_collapsed": true,
    "hidden": true
   },
   "source": [
    "### 2.1 Pour deux échantillons suivants une loi normale"
   ]
  },
  {
   "cell_type": "markdown",
   "metadata": {
    "hidden": true
   },
   "source": [
    "Nous allons également utiliser le __test de Student__ (test de t) pour évaluer si un échantillon donné possède la même moyenne qu'un deuxième échantillon donné.\n",
    "\n",
    "Ce type de test est par exemple utile pour évaluer si la moyenne d'une région est la même que celle d'une autre région.\n",
    "\n",
    "Il est important que les deux échantillons sont par ailleurs indépendants, ce qui exclut par exemple les séries temporelles.\n",
    "\n",
    "Le test assume que les conditions suivantes sont vraies:\n",
    "- les deux échantillons suivent une loi normale (peut être testé avec un test de Kolmogorov-Smirnov)\n",
    "- la variance est la même que pour les deux échantillons\n",
    "\n",
    "__Exemple__: nous aimerions savoir si la proportion de jeunes dans les régions Z05 du canton de Fribourg est la même que pour celles du canton de Genève."
   ]
  },
  {
   "cell_type": "markdown",
   "metadata": {
    "hidden": true
   },
   "source": [
    "Nous commençons par lire les deux fichiers, et à calculer les deux moyennes. D'abord pour le canton de Fribourg:"
   ]
  },
  {
   "cell_type": "code",
   "execution_count": 5,
   "metadata": {
    "collapsed": false,
    "hidden": true
   },
   "outputs": [
    {
     "data": {
      "text/plain": [
       "   Min. 1st Qu.  Median    Mean 3rd Qu.    Max. \n",
       " 0.1756  0.2207  0.2400  0.2420  0.2652  0.2997 "
      ]
     },
     "metadata": {},
     "output_type": "display_data"
    }
   ],
   "source": [
    "dfr = read.csv(file=\"demo-fribourg.tsv\", sep=\"\\t\")\n",
    "dfr$jeunes = (dfr$P0004M + dfr$P0004F + dfr$P0509M + dfr$P0509F + dfr$P1014M + dfr$P1014F + dfr$P1519M + dfr$P1519F) / (dfr$PTOT)\n",
    "summary(dfr$jeunes)"
   ]
  },
  {
   "cell_type": "markdown",
   "metadata": {
    "hidden": true
   },
   "source": [
    "puis pour le canton de Genève:"
   ]
  },
  {
   "cell_type": "code",
   "execution_count": 6,
   "metadata": {
    "collapsed": false,
    "hidden": true
   },
   "outputs": [
    {
     "data": {
      "text/plain": [
       "   Min. 1st Qu.  Median    Mean 3rd Qu.    Max. \n",
       " 0.1244  0.1830  0.2233  0.2210  0.2533  0.3310 "
      ]
     },
     "metadata": {},
     "output_type": "display_data"
    }
   ],
   "source": [
    "dge = read.csv(file=\"demo-geneve.tsv\", sep=\"\\t\")\n",
    "dge$jeunes = (dge$P0004M + dge$P0004F + dge$P0509M + dge$P0509F + dge$P1014M + dge$P1014F + dge$P1519M + dge$P1519F) / (dge$PTOT)\n",
    "summary(dge$jeunes)"
   ]
  },
  {
   "cell_type": "markdown",
   "metadata": {
    "hidden": true
   },
   "source": [
    "Donc 24.2% contre 22.1% de jeunes en moyenne dans les régions Z05 à Fribourg respectivement à Genève. On peut faire un boxplot pour chacun des cantons pour estimer visuellement si la proportion de jeunes est différente ou non:"
   ]
  },
  {
   "cell_type": "code",
   "execution_count": 7,
   "metadata": {
    "collapsed": false,
    "hidden": true
   },
   "outputs": [
    {
     "data": {
      "image/png": "[encoded data removed]",
      "text/plain": [
       "Plot with title “Jeunes Genève”"
      ]
     },
     "metadata": {},
     "output_type": "display_data"
    }
   ],
   "source": [
    "par(mfrow=c(1,2))\n",
    "boxplot(dfr$jeunes, ylim=c(0.12, 0.35), main=\"Jeunes Fribourg\")\n",
    "boxplot(dge$jeunes, ylim=c(0.12, 0.35), main=\"Jeunes Genève\")"
   ]
  },
  {
   "cell_type": "markdown",
   "metadata": {
    "hidden": true
   },
   "source": [
    "Ensuite nous faisons le test de Student.\n",
    "\n",
    "L'hypothèse à tester peut être formulée ainsi:\n",
    "\n",
    "$H_0: \\mu_1 - \\mu_2 = 0$  \n",
    "$H_1: \\mu_1 - \\mu_2 \\neq 0$\n",
    "\n",
    "Dans R, nous pouvons effectuer le test comme suit:"
   ]
  },
  {
   "cell_type": "code",
   "execution_count": 8,
   "metadata": {
    "collapsed": false,
    "hidden": true,
    "scrolled": true
   },
   "outputs": [
    {
     "data": {
      "text/plain": [
       "\n",
       "\tWelch Two Sample t-test\n",
       "\n",
       "data:  dfr$jeunes and dge$jeunes\n",
       "t = 3.1176, df = 127.45, p-value = 0.002254\n",
       "alternative hypothesis: true difference in means is not equal to 0\n",
       "95 percent confidence interval:\n",
       " 0.007678417 0.034360023\n",
       "sample estimates:\n",
       "mean of x mean of y \n",
       "0.2420100 0.2209908 \n"
      ]
     },
     "metadata": {},
     "output_type": "display_data"
    }
   ],
   "source": [
    "t.test(dfr$jeunes, dge$jeunes)"
   ]
  },
  {
   "cell_type": "markdown",
   "metadata": {
    "hidden": true
   },
   "source": [
    "Selon la valeur-p obtenue, nous avons environ 0.23% de chance de commettre une erreur de type I, ce qui est très faible. Nous rejettons donc l'hypothèse $H_0$ selon laquelle les deux moyennes sont égales.\n",
    "\n",
    "__Conclusion__: la proportion de jeunes est significativement différente dans les régions Z05 du canton de Fribourg de celles du canton de Genève. (sous condition que les deux échantillons suivent une loi normale, chose que nous n'avons pas vérifé!)"
   ]
  },
  {
   "cell_type": "markdown",
   "metadata": {
    "heading_collapsed": true,
    "hidden": true
   },
   "source": [
    "### 2.2 Pour deux échantillons ne suivants pas une loi normale"
   ]
  },
  {
   "cell_type": "markdown",
   "metadata": {
    "hidden": true
   },
   "source": [
    "Il peut arriver qu'un échantillon ne suit pas une loi normale, et du coup une condition importante pour pouvoir faire un test de Student n'est plus rempli. Du coup nous devons utiliser un test non-paramétrique à la place.\n",
    "\n",
    "Pour comparer la moyenne de deux échantillons, nous pouvons utiliser le test de Wilcoxon-Mann-Whitney. Le test compare les distributions des des échantillons, et du coup aussi la moyenne:\n",
    "\n",
    "$H_0$: les distributions des deux échantillons sont identiques\n",
    "\n",
    "$H_1$: les distributions des deux échantillons ne sont pas identiques\n",
    "\n",
    "Nous pouvons calculer le test dans R comme suit (à nouveau pour tester la proportion de jeunes dans les cantons de Genève et Fribourg):"
   ]
  },
  {
   "cell_type": "code",
   "execution_count": 22,
   "metadata": {
    "collapsed": false,
    "hidden": true
   },
   "outputs": [
    {
     "data": {
      "text/plain": [
       "\n",
       "\tWilcoxon rank sum test with continuity correction\n",
       "\n",
       "data:  dfr$jeunes and dge$jeunes\n",
       "W = 2472, p-value = 0.01514\n",
       "alternative hypothesis: true location shift is not equal to 0\n"
      ]
     },
     "metadata": {},
     "output_type": "display_data"
    }
   ],
   "source": [
    "wilcox.test(x=dfr$jeunes, y=dge$jeunes)"
   ]
  },
  {
   "cell_type": "markdown",
   "metadata": {
    "hidden": true
   },
   "source": [
    "La probabilité de commettre une erreur si on rejette l'hypothèse $H_0$ est environ 1.5%.\n",
    "\n",
    "Si nous utilisons un seuil de 5%, nous pouvons donc rejeter l'hypothèse $H_0$ et conclure que la proportion de jeunes à Fribourg n'est pas identique que celle à Genève. \n",
    "\n",
    "Par contre, si nous utilisons un seuil plus prudent de 1%, nous ne pouvons pas raisonnablement rejeter l'hypothèse $H_0$ et nous ne pouvons pas conclure qu'il y a une différence dans la distribution de la proportion de jeunes des deux cantons.\n"
   ]
  },
  {
   "cell_type": "markdown",
   "metadata": {
    "heading_collapsed": true
   },
   "source": [
    "## 3. Comparer les moyennes de deux échantillons dépendants"
   ]
  },
  {
   "cell_type": "markdown",
   "metadata": {
    "hidden": true
   },
   "source": [
    "L'exemple classique de deux échantillons dépendants est celui des séries temporelles. Si on veut comparer par exemple si la proportion de jeunes a changé significativement dans les communes du canton de Vaud entre 1970 et 2000, nous sommes en présence de deux échantillons qui mesurent la même chose au même endroit, mais juste à des moments temporels différents. Dans un tel cas, nous devons utiliser un test adapté à la situation.\n",
    "\n",
    "Un autre exemple serait par exemple d'investiguer la question si la proportion de jeunes femmes est significativement différent de celle des jeunes hommes. Là aussi nous sommes en présence de __deux variables dépendantes__.\n",
    "\n",
    "Nous allons utiliser un test adapté aux échantillons dépendants, à savoir où nous avons pour chaque individu ou unité spatiale deux valeurs."
   ]
  },
  {
   "cell_type": "markdown",
   "metadata": {
    "heading_collapsed": true,
    "hidden": true
   },
   "source": [
    "### 3.1 Pour deux échantillons suivants une loi normale"
   ]
  },
  {
   "cell_type": "markdown",
   "metadata": {
    "hidden": true
   },
   "source": [
    "Si nous sommes en présence de deux échantillons qui suivent une loi normale, nous allons utiliser un __test de Student__ adapté aux échantillons dépendants.\n",
    "\n",
    "L'exemple que nous prenons est de comparer la proportion de personnes avec lieu de naissance en Suisse en 2010 et 2016 pour les région Z05. Ces données sont disponibles dans le fichier [data/stats/geostat/statpop_2010_2016_b_z05.tsv](../data/stats/geostat/statpop_2010_2016_b_z05.tsv). Ce sont les colonnes `b10b21_p` et `b16b21_p` qui nous intéressent."
   ]
  },
  {
   "cell_type": "markdown",
   "metadata": {
    "hidden": true
   },
   "source": [
    "Nous devons d'abord lire le fichier des données:"
   ]
  },
  {
   "cell_type": "code",
   "execution_count": 17,
   "metadata": {
    "collapsed": true,
    "hidden": true
   },
   "outputs": [],
   "source": [
    "d_naiss = read.csv(file=\"../data/stats/geostat/statpop_2010_2016_b_z05.tsv\", sep=\"\\t\")"
   ]
  },
  {
   "cell_type": "markdown",
   "metadata": {
    "hidden": true
   },
   "source": [
    "On regarde rapidement quelques valeurs statistiques pour les deux colonnes qui nous intéressent:"
   ]
  },
  {
   "cell_type": "code",
   "execution_count": 18,
   "metadata": {
    "collapsed": false,
    "hidden": true
   },
   "outputs": [
    {
     "data": {
      "text/plain": [
       "   Min. 1st Qu.  Median    Mean 3rd Qu.    Max. \n",
       "  30.88   65.83   75.29   73.52   82.88   96.71 "
      ]
     },
     "metadata": {},
     "output_type": "display_data"
    }
   ],
   "source": [
    "summary(d_naiss$b10b21_p)"
   ]
  },
  {
   "cell_type": "code",
   "execution_count": 19,
   "metadata": {
    "collapsed": false,
    "hidden": true
   },
   "outputs": [
    {
     "data": {
      "text/plain": [
       "   Min. 1st Qu.  Median    Mean 3rd Qu.    Max. \n",
       "  30.27   62.08   72.08   70.53   80.20   95.43 "
      ]
     },
     "metadata": {},
     "output_type": "display_data"
    }
   ],
   "source": [
    "summary(d_naiss$b16b21_p)"
   ]
  },
  {
   "cell_type": "markdown",
   "metadata": {
    "hidden": true
   },
   "source": [
    "En 2010, on avait donc en moyenne 73.52% de personnes nées en Suisse, tandis qu'en 2016, cette proportion était de 70.53%. Cette différence de 3%, est-elle significative?"
   ]
  },
  {
   "cell_type": "markdown",
   "metadata": {
    "hidden": true
   },
   "source": [
    "Ensuite nous faisons un test de Student pour variables dépendantes (_«paired t-test»_).\n",
    "\n",
    "L'hypothèse à tester peut être formulée ainsi:\n",
    "\n",
    "$H_0: \\mu_1 - \\mu_2 = 0$  \n",
    "$H_1: \\mu_1 - \\mu_2 \\neq 0$\n",
    "\n",
    "Dans R, nous pouvons effectuer le test comme suit:"
   ]
  },
  {
   "cell_type": "code",
   "execution_count": 20,
   "metadata": {
    "collapsed": false,
    "hidden": true
   },
   "outputs": [
    {
     "data": {
      "text/plain": [
       "\n",
       "\tPaired t-test\n",
       "\n",
       "data:  d_naiss$b10b21_p and d_naiss$b16b21_p\n",
       "t = 73.668, df = 1364, p-value < 2.2e-16\n",
       "alternative hypothesis: true difference in means is not equal to 0\n",
       "95 percent confidence interval:\n",
       " 2.911178 3.070463\n",
       "sample estimates:\n",
       "mean of the differences \n",
       "               2.990821 \n"
      ]
     },
     "metadata": {},
     "output_type": "display_data"
    }
   ],
   "source": [
    "t.test(d_naiss$b10b21_p, d_naiss$b16b21_p, paired=TRUE)"
   ]
  },
  {
   "cell_type": "markdown",
   "metadata": {
    "hidden": true
   },
   "source": [
    "Le test est donc le même que le test de Student pour variables indépendantes, sauf pour le paramètre `paired=TRUE`.\n",
    "\n",
    "Et le résultat: avec la valeur $p$ étant extrêmement petite, la probabilité de commettre une erreur de type 1 est presque négligable. En conséquence, nous pouvons donc rejeter l'hypothèse $H_0$ qui dit qu'il n'y a pas de différence dans les deux moyennes, pour conclure qu'il y a, en moyenne, significativement moins de résidents en Suisse qui sont aussi nés en Suisse en 2016 par rapport à 2010."
   ]
  },
  {
   "cell_type": "markdown",
   "metadata": {
    "heading_collapsed": true,
    "hidden": true
   },
   "source": [
    "### 3.2 Pour deux échantillons ne suivants pas une loi normale"
   ]
  },
  {
   "cell_type": "markdown",
   "metadata": {
    "hidden": true
   },
   "source": [
    "Comme déjà avec les échantillons indépendants, il y a aussi un test non-paramétrique alternatif pour les échantillons dépendants qui ne suivent pas une loi normale. Et comme déjà avec le test de Student, la différence dans la commande R est juste un paramètre `paired=TRUE` qu'il faut rajouter.\n",
    "\n",
    "Voici les hypothèses à tester:\n",
    "\n",
    "$H_0$: les deux échantillons suivent la même distribution  \n",
    "$H_1$: les deux échantillons ne suivent pas la même distribution"
   ]
  },
  {
   "cell_type": "code",
   "execution_count": 28,
   "metadata": {
    "collapsed": false,
    "hidden": true
   },
   "outputs": [
    {
     "data": {
      "text/plain": [
       "\n",
       "\tWilcoxon signed rank test with continuity correction\n",
       "\n",
       "data:  d_naiss$b10b21_p and d_naiss$b16b21_p\n",
       "V = 929710, p-value < 2.2e-16\n",
       "alternative hypothesis: true location shift is not equal to 0\n"
      ]
     },
     "metadata": {},
     "output_type": "display_data"
    }
   ],
   "source": [
    "wilcox.test(x=d_naiss$b10b21_p, y=d_naiss$b16b21_p, paired=TRUE)"
   ]
  },
  {
   "cell_type": "markdown",
   "metadata": {
    "hidden": true
   },
   "source": [
    "Le résultat est le même que pour le test de Student, c'est-à-dire la probabilité de commettre une erreur en rejetant l'hypothèse $H_0$ est très faible, et nous acceptons donc l'hypothèse $H_1$ comme quoi il y a en moyenne une différence entre la proportion de résidents nés en Suisse entre 2010 et 2016."
   ]
  },
  {
   "cell_type": "markdown",
   "metadata": {
    "collapsed": true,
    "heading_collapsed": true
   },
   "source": [
    "## 4. Vérifier si un échantillon suit une loi normale"
   ]
  },
  {
   "cell_type": "markdown",
   "metadata": {
    "hidden": true
   },
   "source": [
    "Le test de Kolmogorov-Smirnov permet de tester si un échantillon suit une certaine distribution ou non. Il permet donc de tester si l'échantillon suit ou non une loi normale.\n",
    "\n",
    "Les hypothèses sont comme suit:\n",
    "\n",
    "$H_0$ : la population de laquelle a été tiré l'échantillon à tester suit la distribution de comparaison (p.ex. une loi normale)\n",
    "\n",
    "$H_1$: la population de laquelle a été tiré l'échantillon ne suit pas la distribution de comparaison\n",
    "\n",
    "On peut calculer le test comme suit, pour une loi normale:"
   ]
  },
  {
   "cell_type": "code",
   "execution_count": 9,
   "metadata": {
    "collapsed": false,
    "hidden": true
   },
   "outputs": [
    {
     "data": {
      "text/plain": [
       "\n",
       "\tOne-sample Kolmogorov-Smirnov test\n",
       "\n",
       "data:  dfr$jeunes\n",
       "D = 0.065367, p-value = 0.9781\n",
       "alternative hypothesis: two-sided\n"
      ]
     },
     "metadata": {},
     "output_type": "display_data"
    }
   ],
   "source": [
    "ks.test(dfr$jeunes, \"pnorm\", mean=mean(dfr$jeunes), sd=sd(dfr$jeunes))"
   ]
  },
  {
   "cell_type": "markdown",
   "metadata": {
    "hidden": true
   },
   "source": [
    "ou autrement dit la proportion de jeunes dans les régions Z05 du canton de Fribourg semble suivre une loi normale.\n",
    "\n",
    "La valeur p est proche de 1, donc la probabilité de commettre une erreur de type 1 en cas de rejet de l'hypothèse $H_0$ est très élevée. Nous ne pouvons donc pas rejeter l'hypothèse $H_0$."
   ]
  },
  {
   "cell_type": "markdown",
   "metadata": {
    "collapsed": true,
    "heading_collapsed": true
   },
   "source": [
    "## 5. Discussion sur la pondération des unités spatiales"
   ]
  },
  {
   "cell_type": "markdown",
   "metadata": {
    "hidden": true
   },
   "source": [
    "Un aspect que nous avons ignoré dans les exemples ci-dessus est le fait si nous pouvons réellement faire les calculs non pondérés de moyennes et variance que nous avons fait. En effet, ___le calcul de la moyenne d'une proportion à travers plusieurs unités spatiales de tailles différentes nécessite une pondération___. Voici un exemple hypothétique:\n",
    "\n",
    "Dans la commune A résident 100'000 personnes, dont 24'000 de moins de 20 ans, soit 24%.\n",
    "Dans la commune B résident 5'000 personnes, dont 2'000 de moins de 20 ans, soit 40%.\n",
    "La moyenne de la proportion de jeunes dans les communes A et B se calcule correctement comme suit:\n",
    "\n",
    "$\\frac{24000 + 2000}{100000 + 5000} \\cdot 100 = 24.76\\%$\n",
    "\n",
    "et non simplement comme nous l'avons fait:\n",
    "\n",
    "$\\frac{24\\% + 40\\%}{2} = 32\\%$\n",
    "\n",
    "\n",
    "Dans tous nos calculs des tests, nous n'avons pas utilisé de moyenne pondérée, et les tests ne sont pas fait pour une telle utilisation. Qu'est-ce que nous pouvons faire alors?\n",
    "\n",
    "Dans la pratique, nous pouvons utiliser deux approches:\n",
    "\n",
    "1. Utiliser un maillage spatial où les unités spatiales sont approximativement de la même taille en termes de population. C'est ce qu'on essaie de faire avec les région Z05 que nous utilisons comme jeu de données.\n",
    "\n",
    "2. Utiliser une technique de ___ré-échantillonnage___ (on utilisera le _«bootstrapping»_) pour extraire une série d'échantillons ajustés au niveau de la taille, et de faire le calcul des tests pour chaque échantillon.\n",
    "\n",
    "Tandis que la première méthode demande un certain travail au niveau de la préparation des données, la deuxième est plus intensive au niveau du calcul. Nous expliquons ci-dessous plus en détail la méthode du _bootstrapping_ pour une telle utilisation, avec un exemple concret d'un test simple."
   ]
  },
  {
   "cell_type": "markdown",
   "metadata": {
    "hidden": true
   },
   "source": [
    "### 5.1 La technique du _boostrap_"
   ]
  },
  {
   "cell_type": "markdown",
   "metadata": {
    "hidden": true
   },
   "source": [
    "Le bootstrap est une méthode de _ré-échantillonnage_ où on crée, à partir d'un échantillon $A$ existant, un nouvel échantillon $A'$. Pour ce faire, on sélectionne aléatoirement un individu dans l'échantillon $A$ pour le mettre dans l'échantillon $A'$, et on répète ce processus $n$ fois, où c'est à nous de définir la valeur de $n$, c'est-à-dire la taille de l'échantillon $A'$. Il est important à noter qu'un individu $a_1$ qu'on trouve une seule fois dans l'échantillon original $A$ peut se trouver plusieurs fois dans $A'$, tandis qu'un autre individu $a_2$ peut ne pas y figurer du tout. On appelle cette méthode _«échantillonnage aléatoire avec remplacement»_ (_«random sampling with replacement»_ en anglais).\n",
    "\n",
    "Vu que les deux échantillons $A$ et $A'$ proviennent de la même population, les propriétés statistiques comme la moyenne $\\bar X$ ou l'écart-type $s$ sont en principe identiques.\n",
    "\n",
    "On peut maintenant faire un bootstrap où la probabilité de sélection d'un individu dans l'échantillon d'origine n'est pas égale pour tous les individus, mais où elle est proportionnelle à une variable de pondération. Dans notre exemple ci-dessus, cette variable de pondération serait le nombre de résidents dans la commune. Ainsi, les valeurs d'une grande ville seront sélectionnées plus facilement que celles d'un petit village, et du coup on arrive à compenser les différences de poids entre les communes (les individus).\n",
    "\n",
    "La taille de l'échantillon $A'$ est un paramètre qui doit être défini en avance. Il est une bonne idée de choisir une taille plus grande que l'échantillon d'origine, mais beaucoup plus petit que le nombre de résidents au total. Donc pour une taille de 300 communes, on pourra p.ex. choisir une taille d'échantillon de 1000 ou 1500 pour faire nos tests d'hypothèses.\n",
    "\n",
    "Par la suite, et c'est une des caractéristiques importantes du bootstrap, on répète toute la procédure un nombre $R$ fois ($R$ peut par exemple être 1000), afin d'estimer la variabilité de la valeur statistique qu'on essaie d'estimer (pour une test d'hypothèse, c'est de voir dans combien de cas on rejète ou non l'hypothèse $H_0$)."
   ]
  },
  {
   "cell_type": "markdown",
   "metadata": {
    "collapsed": true,
    "hidden": true
   },
   "source": [
    "### 5.2 Calcul d'un nouvel échantillon pondéré"
   ]
  },
  {
   "cell_type": "markdown",
   "metadata": {
    "hidden": true
   },
   "source": [
    "Nous faisons ici l'exemple du calcul d'un nouvel échantillon pondéré selon la population, en suivant la technique du bootstrap décrite ci-dessus.\n",
    "\n",
    "Dans un premier temps, nous voulons définir la taille du nouvel échantillon. Pour cela, nous regardons __la taille de l'échantillon d'origine__. Nous pouvons le faire avec la fonction `nrow` (___n__umber of __row__s_), ce qui donne dans le cas l'example des régions Z05 du canton de Fribourg:"
   ]
  },
  {
   "cell_type": "code",
   "execution_count": 10,
   "metadata": {
    "collapsed": false,
    "hidden": true
   },
   "outputs": [
    {
     "data": {
      "text/html": [
       "48"
      ],
      "text/latex": [
       "48"
      ],
      "text/markdown": [
       "48"
      ],
      "text/plain": [
       "[1] 48"
      ]
     },
     "metadata": {},
     "output_type": "display_data"
    }
   ],
   "source": [
    "nrow(dfr)"
   ]
  },
  {
   "cell_type": "markdown",
   "metadata": {
    "hidden": true
   },
   "source": [
    "donc 48 unités Z05 dans le canton. Nous pouvons ainsi créer un nouvel échantillon avec p.ex. 200 unités."
   ]
  },
  {
   "cell_type": "markdown",
   "metadata": {
    "hidden": true
   },
   "source": [
    "Nous pouvons déterminer les unités Z05 à inclure dans le nouvel échantillon comme suit:"
   ]
  },
  {
   "cell_type": "code",
   "execution_count": 12,
   "metadata": {
    "collapsed": false,
    "hidden": true
   },
   "outputs": [],
   "source": [
    "samp_idx = sample(x=seq_len(nrow(dfr)), size=1000, replace=TRUE, prob=dfr$PTOT)"
   ]
  },
  {
   "cell_type": "markdown",
   "metadata": {
    "hidden": true
   },
   "source": [
    "où `dfr` sont les données chargées depuis le fichier CSV. `size` correspond à la nouvelle taille de l'échantillon, `replace` doit être `TRUE` étant donné qu'on utilise une méthode de _ré-échantillonnage __avec remplacement___. `prob` finalement indique la variable de pondération, dans notre cas la taille de la population.\n",
    "\n",
    "Le résultat est mis dans une variable `samp_idx`. Cette variable contient les numéros de lignes des unités Z05 à inclure dans le nouvel échantillon, et non les unités elles-mêmes! (Vous pouvez afficher le contenu tout simplement en exécutant le code\n",
    "\n",
    "```R\n",
    "samp_idx\n",
    "```"
   ]
  },
  {
   "cell_type": "markdown",
   "metadata": {
    "hidden": true
   },
   "source": [
    "Finalement, pour créer le nouvel échantillon, il suffit de faire:"
   ]
  },
  {
   "cell_type": "code",
   "execution_count": 13,
   "metadata": {
    "collapsed": true,
    "hidden": true
   },
   "outputs": [],
   "source": [
    "dfr_ech1 = dfr[samp_idx,]"
   ]
  },
  {
   "cell_type": "markdown",
   "metadata": {
    "hidden": true
   },
   "source": [
    "On peut encore vérifier la taille de l'échantillon et quelques valeurs de statistique descriptive de la proportion de jeunes:"
   ]
  },
  {
   "cell_type": "code",
   "execution_count": 14,
   "metadata": {
    "collapsed": false,
    "hidden": true
   },
   "outputs": [
    {
     "data": {
      "text/html": [
       "1000"
      ],
      "text/latex": [
       "1000"
      ],
      "text/markdown": [
       "1000"
      ],
      "text/plain": [
       "[1] 1000"
      ]
     },
     "metadata": {},
     "output_type": "display_data"
    }
   ],
   "source": [
    "nrow(dfr_ech1)"
   ]
  },
  {
   "cell_type": "code",
   "execution_count": 16,
   "metadata": {
    "collapsed": false,
    "hidden": true
   },
   "outputs": [
    {
     "data": {
      "text/plain": [
       "   Min. 1st Qu.  Median    Mean 3rd Qu.    Max. \n",
       " 0.1756  0.2252  0.2436  0.2447  0.2688  0.2997 "
      ]
     },
     "metadata": {},
     "output_type": "display_data"
    }
   ],
   "source": [
    "summary(dfr_ech1$jeunes)"
   ]
  },
  {
   "cell_type": "markdown",
   "metadata": {
    "hidden": true
   },
   "source": [
    "(à comparer avec les valeurs obtenus plus haut...)"
   ]
  }
 ],
 "metadata": {
  "kernelspec": {
   "display_name": "R",
   "language": "R",
   "name": "ir"
  },
  "language_info": {
   "codemirror_mode": "r",
   "file_extension": ".r",
   "mimetype": "text/x-r-source",
   "name": "R",
   "pygments_lexer": "r",
   "version": "3.2.4"
  },
  "latex_envs": {
   "LaTeX_envs_menu_present": true,
   "bibliofile": "biblio.bib",
   "cite_by": "apalike",
   "current_citInitial": 1,
   "eqLabelWithNumbers": true,
   "eqNumInitial": 1,
   "labels_anchors": false,
   "latex_user_defs": false,
   "report_style_numbering": false,
   "user_envs_cfg": false
  }
 },
 "nbformat": 4,
 "nbformat_minor": 2
}
