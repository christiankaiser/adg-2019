{
 "cells": [
  {
   "cell_type": "markdown",
   "metadata": {},
   "source": [
    "# Cheatsheet pour interpréter la p-value"
   ]
  },
  {
   "cell_type": "markdown",
   "metadata": {},
   "source": [
    "Pour un test statistique, il faut tout d'abord toujours connaître les hypothèses:\n",
    "\n",
    "$H_0$: je suis nul en stats  \n",
    "$H_1$: les stats c'est cool!"
   ]
  },
  {
   "cell_type": "markdown",
   "metadata": {},
   "source": [
    "Et puis on calcule le test, et généralement on obtient une p-value en retour. __La p-value est la probabilité de commettre une erreur en rejetant $H_0$.__"
   ]
  },
  {
   "cell_type": "markdown",
   "metadata": {},
   "source": [
    "Voici un tableau qui aide dans l'interprétation de la p-value:\n",
    "\n",
    "| p-value du test | Interprétation          |\n",
    "|-----------------|-------------------------|\n",
    "| 0.0             | On rejette $H_0$, on accepte $H_1$. Les stats c'est cool! |\n",
    "| 0.009            | La p-value est sous le seuil du 1%. On rejette donc toujours $H_0$, et on accepte $H_1$. Les stats c'est cool! |\n",
    "| 0.04            | La p-value est en-dessus du seuil de 1%, mais encore en dessous de celui de 5%. Avec une p-value de 0.02, on se trompe 1 fois sur 25 en rejettant $H_0$. Si on veut être prudent, on ne rejette pas $H_0$ et je conclus que je suis nul en stats. Par contre, si je suis plus audacieux, je me permet toujours de rejeter $H_0$ et d'accepter $H_1$. Dans ce cas, les stats c'est toujours cool! |\n",
    "| >0.05 | Je prend un risque trop élevé en rejetant $H_0$. J'accepte donc $H_0$ et je rejette $H_1$. Je suis nul en stats! |"
   ]
  }
 ],
 "metadata": {
  "kernelspec": {
   "display_name": "Python 3",
   "language": "python",
   "name": "python3"
  },
  "language_info": {
   "codemirror_mode": {
    "name": "ipython",
    "version": 3
   },
   "file_extension": ".py",
   "mimetype": "text/x-python",
   "name": "python",
   "nbconvert_exporter": "python",
   "pygments_lexer": "ipython3",
   "version": "3.6.0"
  },
  "latex_envs": {
   "LaTeX_envs_menu_present": true,
   "bibliofile": "biblio.bib",
   "cite_by": "apalike",
   "current_citInitial": 1,
   "eqLabelWithNumbers": true,
   "eqNumInitial": 1,
   "labels_anchors": false,
   "latex_user_defs": false,
   "report_style_numbering": false,
   "user_envs_cfg": false
  }
 },
 "nbformat": 4,
 "nbformat_minor": 2
}
