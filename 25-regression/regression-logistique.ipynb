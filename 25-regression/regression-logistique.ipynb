{
 "cells": [
  {
   "cell_type": "markdown",
   "metadata": {},
   "source": [
    "# Régression logistique"
   ]
  },
  {
   "cell_type": "markdown",
   "metadata": {},
   "source": [
    "La régression logistique, aussi appelée __modèle logit__ ou __régression logit__, est une régression où la variable dépendante est de type **catégoriel**.\n",
    "\n",
    "Par souci de simplification, nous allons regarder ici uniquement la régression logistique binomiale avec 2 catégories (classes) pour la variable dépendante. Ce sont les modèles de régression logistique multinomial qui couvrent les cas de plus de deux catégories.\n",
    "\n",
    "La régression logistique peut être appliquée à de nombreux problèmes de classification:\n",
    "\n",
    "- Sur la base du nombre d'heures travaillées, est-ce qu'un étudiant va-t-il réussir ses études ou non?\n",
    "- Sur la base du contenu d'un e-mail, est-ce qu'il s'agit du spam ou non?\n",
    "- Étant donné les caractéristiques d'un paiement par carte de crédit, est-ce qu'il s'agit d'une fraude ou non?\n",
    "- Étant donné les caractéristiques démographiques, est-ce que la commune est rurale ou urbaine?\n",
    "\n",
    "et pour les problèmes multinominaux:\n",
    "\n",
    "- Pour quel parti ou candidat une personne va voter?\n",
    "- Quelle est la typologie d'une commune (urbain, péri-urbain, rural, etc.)?\n",
    "- ..."
   ]
  },
  {
   "cell_type": "markdown",
   "metadata": {},
   "source": [
    "De manière générale, la régression logistique dans sa version binomiale peut être utilisée pour faire des prédictions binaires (oui/non, 1/0, juste/faux, etc.).\n",
    "\n",
    "En gros, la régression logistique binomiale essaie d'évaluer la probabilité pour l'une ou l'autre des classes. Si nous prenons l'example de la relation entre le nombre d'heures d'étude pour un examen et la probabilité de réussite à l'examen, nous pouvons obtenir une courbe qui pourrait ressembler à:\n",
    "\n",
    "![](https://upload.wikimedia.org/wikipedia/commons/6/6d/Exam_pass_logistic_curve.jpeg)  \n",
    "*Source: https://upload.wikimedia.org/wikipedia/commons/6/6d/Exam_pass_logistic_curve.jpeg*"
   ]
  },
  {
   "cell_type": "markdown",
   "metadata": {},
   "source": [
    "Dans ce cas, la réussite de l'examen (catégories: réussite et échec) est la variable dépendante, et le nombre d'heures d'étude la seule variable indépendante. Évidemment, on pourrait ajouter d'autres variables indépendantes...\n",
    "\n"
   ]
  },
  {
   "cell_type": "markdown",
   "metadata": {},
   "source": [
    "Pour montrer comment on calcule une régression logistique dans R, nous allons regarder à nouveau les régions Z05. Cette fois, nous essayons de déterminer si une région fait partie d'un centre urbain ou non, sur la base de la typologie territoriale de l'OFS ([Centres urbains et espace sous influence des centres urbains au 18.12.2014](https://www.bfs.admin.ch/bfs/fr/home/statistiques/themes-transversaux/analyses-spatiales/niveaux-geographiques.assetdetail.478314.html)).\n",
    "\n",
    "Cette typologie est basée sur les communes et contient 3 catégories:\n",
    "\n",
    "- Centres urbains\n",
    "- Espaces sous influence des centres urbains\n",
    "- Espaces hors influence des centres urbains\n",
    "\n",
    "Cette typologie a été appliquée aux régions Z05, et le nombre de catégories réduit à 2:\n",
    "- Centres urbains (`type_binaire=U`)\n",
    "- Autres espaces (`type_binaire=N`)"
   ]
  },
  {
   "cell_type": "markdown",
   "metadata": {},
   "source": [
    "Nous essayons de prédire si une région est un centre urbain ou non sur la base de quelques variables socio-économiques. En l'occurence, nous avons sélectionné les variables suivantes:\n",
    "\n",
    "- **ADO**: proportion de personnes actives occupées\n",
    "- **NADHO**: proportion de femmes et hommes de ménage\n",
    "- **NADRET**: proportion de personnes actives à la retraite\n",
    "- **AD3PRIM**: proportion de personnes actives dans le secteur primaire\n",
    "- **AD3SEC**: proportion de personnes actives dans le secteur secondaire\n",
    "\n",
    "Le choix de ces variables est en grande partie aléatoire. Le choix des variables est un problème à part que nous pourrons discuter ultérieurement (c'est le problème connu sous le nom de ***feature selection***).\n",
    "\n",
    "Le tableau de données avec ces variables ainsi que la typologie se trouve dans le fichier [ch-socioeco-typologie.xlsx](ch-socioeco-typologie.xlsx) et la version pour lecture avec R dans [ch-socioeco-typologie.tsv](ch-socioeco-typologie.tsv) (mais sans explication des variables).\n",
    "\n",
    "Il faut encore noter que toutes les variables représentent des proportions et non des valeurs absolues, car nous essayons de déterminer la typologie sur la base de la structure socio-économique et non la population absolue des régions."
   ]
  },
  {
   "cell_type": "markdown",
   "metadata": {},
   "source": [
    "Pour faire notre régression logistique, commençons par lire le tableau des données:"
   ]
  },
  {
   "cell_type": "code",
   "execution_count": 1,
   "metadata": {
    "collapsed": true
   },
   "outputs": [],
   "source": [
    "d = read.csv(file=\"ch-socioeco-typologie.tsv\", sep=\"\\t\")"
   ]
  },
  {
   "cell_type": "markdown",
   "metadata": {},
   "source": [
    "Et puis maintenant nous pouvons calculer la régression logistique. La fonction à utiliser est **[`glm`](http://stat.ethz.ch/R-manual/R-patched/library/stats/html/glm.html)**, en indiquant une valeur appropriée pour l'argument `family`:"
   ]
  },
  {
   "cell_type": "code",
   "execution_count": 2,
   "metadata": {
    "collapsed": true
   },
   "outputs": [],
   "source": [
    "reglogit = glm(d$typologie_binaire ~ ADO + NADHO + NADRET + AD3PRIM + AD3SEC, family=binomial(link=\"logit\"), data=d) "
   ]
  },
  {
   "cell_type": "markdown",
   "metadata": {},
   "source": [
    "et afficher le résultat de la régression:"
   ]
  },
  {
   "cell_type": "code",
   "execution_count": 3,
   "metadata": {
    "collapsed": false
   },
   "outputs": [
    {
     "data": {
      "text/plain": [
       "\n",
       "Call:\n",
       "glm(formula = d$typologie_binaire ~ ADO + NADHO + NADRET + AD3PRIM + \n",
       "    AD3SEC, family = binomial(link = \"logit\"), data = d)\n",
       "\n",
       "Deviance Residuals: \n",
       "    Min       1Q   Median       3Q      Max  \n",
       "-2.5507  -0.3308   0.2571   0.5225   3.5423  \n",
       "\n",
       "Coefficients:\n",
       "            Estimate Std. Error z value Pr(>|z|)    \n",
       "(Intercept)   28.408      4.407   6.446 1.15e-10 ***\n",
       "ADO          -25.315      4.487  -5.642 1.68e-08 ***\n",
       "NADHO        -20.103      3.570  -5.630 1.80e-08 ***\n",
       "NADRET         1.655      1.114   1.486    0.137    \n",
       "AD3PRIM     -100.366      6.757 -14.853  < 2e-16 ***\n",
       "AD3SEC        -1.423      1.096  -1.299    0.194    \n",
       "---\n",
       "Signif. codes:  0 ‘***’ 0.001 ‘**’ 0.01 ‘*’ 0.05 ‘.’ 0.1 ‘ ’ 1\n",
       "\n",
       "(Dispersion parameter for binomial family taken to be 1)\n",
       "\n",
       "    Null deviance: 1810.23  on 1364  degrees of freedom\n",
       "Residual deviance:  933.84  on 1359  degrees of freedom\n",
       "AIC: 945.84\n",
       "\n",
       "Number of Fisher Scoring iterations: 6\n"
      ]
     },
     "metadata": {},
     "output_type": "display_data"
    }
   ],
   "source": [
    "summary(reglogit)"
   ]
  },
  {
   "cell_type": "markdown",
   "metadata": {},
   "source": [
    "Nous pouvons maintenant **interpréter le résultat** de la régression.\n",
    "\n",
    "La section sur les coefficient correspond au résultat donné par une régression linéaire simple. On peut y voir que les variables `NADRET` et `AD3SEC` ne sont pas statistiquement significtifs (ou plus formellement, la probabilité de se tromper en disant que le coefficient est non nul n'est pas négligeable).\n",
    "\n",
    "Ce sont donc essentiellement la proportion des actifs occupés, des femmes et hommes de ménage, et la proportion de personnes actives dans le secteur primaire qui permettent de différencier les centres urbains du reste.\n",
    "\n",
    "Quant à la qualité du résultat de régression, nous constatons tout d'abord que nous n'avons pas de $R^2$ ou similaire. Ceci est dû à la façon de calculer qui est très différente pour une régression logistique. La qualité du modèle est indiquée avec l'AIC et la déviance:\n",
    "\n",
    "```\n",
    "Null deviance: 1810.23  on 1364  degrees of freedom\n",
    "Residual deviance:  933.84  on 1359  degrees of freedom\n",
    "AIC: 945.84\n",
    "```\n",
    "\n",
    "Tout d'abord, l'Akaike Information Criterion (AIC) devrait être aussi petit que possible. La même chose est valable pour la déviance. Cependant, ceci nous ne donne pas une informations très parlante sur la qualité de notre modèle.\n",
    "\n",
    "Nous avons plusieurs possibilités pour évaluer plus en détail la qualité du modèle. La première méthode est le **McFadden $R^2$**, qui est similaire au $R^2$ que nous connaissons déjà, sans toutefois être comparable. Pour pouvoir calculer le McFadden $R^2$, nous avons besoin du package additionnel `pscl` que nous pouvons charger comme suit:"
   ]
  },
  {
   "cell_type": "code",
   "execution_count": null,
   "metadata": {
    "collapsed": false
   },
   "outputs": [],
   "source": [
    "library(pscl)"
   ]
  },
  {
   "cell_type": "markdown",
   "metadata": {},
   "source": [
    "Si le package n'est pas installé, nous pouvons l'installer p.ex. avec le \"Package Installer\" dans l'application R, ou bien avec la commande:"
   ]
  },
  {
   "cell_type": "code",
   "execution_count": null,
   "metadata": {
    "collapsed": false
   },
   "outputs": [],
   "source": [
    "install.packages(c(\"pscl\"))"
   ]
  },
  {
   "cell_type": "markdown",
   "metadata": {},
   "source": [
    "Par la suite, nous pouvons effectuer le calcul avec:"
   ]
  },
  {
   "cell_type": "code",
   "execution_count": 12,
   "metadata": {
    "collapsed": false
   },
   "outputs": [
    {
     "data": {
      "text/html": [
       "<dl class=dl-horizontal>\n",
       "\t<dt>llh</dt>\n",
       "\t\t<dd>-466.919429969189</dd>\n",
       "\t<dt>llhNull</dt>\n",
       "\t\t<dd>-905.114410733197</dd>\n",
       "\t<dt>G2</dt>\n",
       "\t\t<dd>876.389961528016</dd>\n",
       "\t<dt>McFadden</dt>\n",
       "\t\t<dd>0.484132144586057</dd>\n",
       "\t<dt>r2ML</dt>\n",
       "\t\t<dd>0.473784222963253</dd>\n",
       "\t<dt>r2CU</dt>\n",
       "\t\t<dd>0.645035140714271</dd>\n",
       "</dl>\n"
      ],
      "text/latex": [
       "\\begin{description*}\n",
       "\\item[llh] -466.919429969189\n",
       "\\item[llhNull] -905.114410733197\n",
       "\\item[G2] 876.389961528016\n",
       "\\item[McFadden] 0.484132144586057\n",
       "\\item[r2ML] 0.473784222963253\n",
       "\\item[r2CU] 0.645035140714271\n",
       "\\end{description*}\n"
      ],
      "text/markdown": [
       "llh\n",
       ":   -466.919429969189llhNull\n",
       ":   -905.114410733197G2\n",
       ":   876.389961528016McFadden\n",
       ":   0.484132144586057r2ML\n",
       ":   0.473784222963253r2CU\n",
       ":   0.645035140714271\n",
       "\n"
      ],
      "text/plain": [
       "         llh      llhNull           G2     McFadden         r2ML         r2CU \n",
       "-466.9194300 -905.1144107  876.3899615    0.4841321    0.4737842    0.6450351 "
      ]
     },
     "metadata": {},
     "output_type": "display_data"
    }
   ],
   "source": [
    "pR2(reglogit)"
   ]
  },
  {
   "cell_type": "markdown",
   "metadata": {},
   "source": [
    "ce qui nous donne un McFadden $R^2$ de 0.484."
   ]
  },
  {
   "cell_type": "markdown",
   "metadata": {},
   "source": [
    "Une autre alternative pour évaluer la qualité du modèle est la **matrice de confusion**. Dans cette matrice, nous pouvons voir le nombre de régions qui sont prédites juste ou faux:\n",
    "\n",
    "![](figures/confusion-matrix.png)\n",
    "\n",
    "Pour calculer la matrice de confusion, nous avons besoin de deux étapes. Faire attention aux paramètres `reglogit` et `d$typologie_binaire` qui sont les deux seuls à changer:"
   ]
  },
  {
   "cell_type": "code",
   "execution_count": 13,
   "metadata": {
    "collapsed": false
   },
   "outputs": [
    {
     "data": {
      "text/plain": [
       "   \n",
       "    FALSE TRUE\n",
       "  N   381  135\n",
       "  U    69  780"
      ]
     },
     "metadata": {},
     "output_type": "display_data"
    }
   ],
   "source": [
    "predict = predict(reglogit, type = 'response')\n",
    "table(d$typologie_binaire, predict > 0.5)"
   ]
  },
  {
   "cell_type": "markdown",
   "metadata": {},
   "source": [
    "Et avec cela il est facile de calculer la proportion de valeur correctement prédites:"
   ]
  },
  {
   "cell_type": "code",
   "execution_count": 14,
   "metadata": {
    "collapsed": false
   },
   "outputs": [
    {
     "data": {
      "text/html": [
       "0.850549450549451"
      ],
      "text/latex": [
       "0.850549450549451"
      ],
      "text/markdown": [
       "0.850549450549451"
      ],
      "text/plain": [
       "[1] 0.8505495"
      ]
     },
     "metadata": {},
     "output_type": "display_data"
    }
   ],
   "source": [
    "(381+780) / (381+135+69+780)"
   ]
  },
  {
   "cell_type": "markdown",
   "metadata": {},
   "source": [
    "ou autrement dit la prédiction est correcte pour 85% des cas. Il serait intéressant de faire une cartographie des prédictions justes et fausses, mais nous laissons cela comme exercice (pour commencer: **`predict`** calculé plus haut contient la probabilité prédite pour chaque région).\n",
    "\n",
    "D'autres méthodes d'évaluation existent, et nous allons continuer cette discussion ultérieurement. L'évaluation de la qualité d'un modèle est en effet un problème important qui mérite de l'attention."
   ]
  },
  {
   "cell_type": "markdown",
   "metadata": {},
   "source": [
    "En plus de l'évaluation du modèle au complet, nous devons encore évaluer la contribution au modèle de chacun des coefficient. Pour faire cela, nous pouvons faire une analyse de variance de la déviance des coefficients:"
   ]
  },
  {
   "cell_type": "code",
   "execution_count": 15,
   "metadata": {
    "collapsed": false,
    "scrolled": true
   },
   "outputs": [
    {
     "data": {
      "text/html": [
       "<table>\n",
       "<thead><tr><th></th><th scope=col>Df</th><th scope=col>Deviance</th><th scope=col>Resid. Df</th><th scope=col>Resid. Dev</th><th scope=col>Pr(&gt;Chi)</th></tr></thead>\n",
       "<tbody>\n",
       "\t<tr><th scope=row>NULL</th><td>NA           </td><td>        NA   </td><td>1364         </td><td>1810.2288    </td><td>           NA</td></tr>\n",
       "\t<tr><th scope=row>ADO</th><td> 1           </td><td>275.309145   </td><td>1363         </td><td>1534.9197    </td><td> 7.903966e-62</td></tr>\n",
       "\t<tr><th scope=row>NADHO</th><td> 1           </td><td> 85.962594   </td><td>1362         </td><td>1448.9571    </td><td> 1.833716e-20</td></tr>\n",
       "\t<tr><th scope=row>NADRET</th><td> 1           </td><td> 21.410042   </td><td>1361         </td><td>1427.5470    </td><td> 3.708238e-06</td></tr>\n",
       "\t<tr><th scope=row>AD3PRIM</th><td> 1           </td><td>492.027907   </td><td>1360         </td><td> 935.5191    </td><td>5.158988e-109</td></tr>\n",
       "\t<tr><th scope=row>AD3SEC</th><td> 1           </td><td>  1.680273   </td><td>1359         </td><td> 933.8389    </td><td> 1.948882e-01</td></tr>\n",
       "</tbody>\n",
       "</table>\n"
      ],
      "text/latex": [
       "\\begin{tabular}{r|lllll}\n",
       "  & Df & Deviance & Resid. Df & Resid. Dev & Pr(>Chi)\\\\\n",
       "\\hline\n",
       "\tNULL & NA            &         NA    & 1364          & 1810.2288     &            NA\\\\\n",
       "\tADO &  1            & 275.309145    & 1363          & 1534.9197     &  7.903966e-62\\\\\n",
       "\tNADHO &  1            &  85.962594    & 1362          & 1448.9571     &  1.833716e-20\\\\\n",
       "\tNADRET &  1            &  21.410042    & 1361          & 1427.5470     &  3.708238e-06\\\\\n",
       "\tAD3PRIM &  1            & 492.027907    & 1360          &  935.5191     & 5.158988e-109\\\\\n",
       "\tAD3SEC &  1            &   1.680273    & 1359          &  933.8389     &  1.948882e-01\\\\\n",
       "\\end{tabular}\n"
      ],
      "text/markdown": [
       "\n",
       "| <!--/--> | Df | Deviance | Resid. Df | Resid. Dev | Pr(>Chi) | \n",
       "|---|---|---|---|---|---|\n",
       "| NULL | NA            |         NA    | 1364          | 1810.2288     |            NA | \n",
       "| ADO |  1            | 275.309145    | 1363          | 1534.9197     |  7.903966e-62 | \n",
       "| NADHO |  1            |  85.962594    | 1362          | 1448.9571     |  1.833716e-20 | \n",
       "| NADRET |  1            |  21.410042    | 1361          | 1427.5470     |  3.708238e-06 | \n",
       "| AD3PRIM |  1            | 492.027907    | 1360          |  935.5191     | 5.158988e-109 | \n",
       "| AD3SEC |  1            |   1.680273    | 1359          |  933.8389     |  1.948882e-01 | \n",
       "\n",
       "\n"
      ],
      "text/plain": [
       "        Df Deviance   Resid. Df Resid. Dev Pr(>Chi)     \n",
       "NULL    NA         NA 1364      1810.2288             NA\n",
       "ADO      1 275.309145 1363      1534.9197   7.903966e-62\n",
       "NADHO    1  85.962594 1362      1448.9571   1.833716e-20\n",
       "NADRET   1  21.410042 1361      1427.5470   3.708238e-06\n",
       "AD3PRIM  1 492.027907 1360       935.5191  5.158988e-109\n",
       "AD3SEC   1   1.680273 1359       933.8389   1.948882e-01"
      ]
     },
     "metadata": {},
     "output_type": "display_data"
    }
   ],
   "source": [
    "anova(reglogit, test=\"Chisq\")"
   ]
  },
  {
   "cell_type": "markdown",
   "metadata": {},
   "source": [
    "La colonne *«Resid. Dev»* nous indique la déviance résiduelle du modèle tenant compte uniquement des coefficient sur la même ligne et ceux en dessus. Au départ, sans coefficient, la déviance est de 1810.2, puis descend à 1534.9 avec l'ajout de la variable `ADO`, à 1448.96 avec la variable `NADHO`, ainsi de suite. La différence avec la valeur du dessus donne une indication de la contribution du coefficient au modèle.\n",
    "\n",
    "Dans notre cas, la variable `AD3PRIM` contribue le plus à notre modèle (diminution de 1427.5 à 935.5).\n",
    "\n",
    "La différence dans cette déviance résiduelle est indiquée dans la colonne ***«Deviance»***."
   ]
  }
 ],
 "metadata": {
  "kernelspec": {
   "display_name": "R",
   "language": "R",
   "name": "ir"
  },
  "language_info": {
   "codemirror_mode": "r",
   "file_extension": ".r",
   "mimetype": "text/x-r-source",
   "name": "R",
   "pygments_lexer": "r",
   "version": "3.2.4"
  },
  "latex_envs": {
   "LaTeX_envs_menu_present": true,
   "bibliofile": "biblio.bib",
   "cite_by": "apalike",
   "current_citInitial": 1,
   "eqLabelWithNumbers": true,
   "eqNumInitial": 1,
   "labels_anchors": false,
   "latex_user_defs": false,
   "report_style_numbering": false,
   "user_envs_cfg": false
  }
 },
 "nbformat": 4,
 "nbformat_minor": 2
}
