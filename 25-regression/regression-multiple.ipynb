{
 "cells": [
  {
   "cell_type": "markdown",
   "metadata": {},
   "source": [
    "# Régression linéaire multiple"
   ]
  },
  {
   "cell_type": "markdown",
   "metadata": {},
   "source": [
    "Une régression linéaire multiple permet de décrire la relation entre une **variable dépendante** (aussi appelée _variable endogène_) et une ou plusieurs **variables indépendantes** (_variables exogènes_).\n",
    "\n",
    "Une régression linéaire multiple est un **modèle statistique** qui permet d'estimer les paramètres du modèle sur la base d'une série d'individus avec caractéristiques connus. Le modèle peut être appliqué par la suite à d'autres individus où nous ne connaissons pas la valeur de la variable dépendante, mais uniquement de la variable indépendante.\n",
    "\n",
    "Une régression linéaire multiple peut être écrite comme:\n",
    "\n",
    "$$Y = a_1 X_1 + a_2 X_2 + a_3 X_3 + \\dots + a_k X_k + a_0$$\n",
    "\n",
    "où $X$ sont les variables indépendantes, $Y$ est la variable indépendante, et $a$ sont les **paramètres du modèle**."
   ]
  },
  {
   "cell_type": "markdown",
   "metadata": {},
   "source": [
    "Les applications d'un modèle de régression linéaire multiple sont nombreuses en géographie. Voici quelques exemples possibles:\n",
    "\n",
    "- Vous voulez savoir le taux d'acceptation ou de rejet d'une future votation de l'initative que vous avez lancée. Afin d'estimer ce taux, vous interrogez des gens dans différentes communes sur leur intention de vote, et vous essayez de trouver un modèle explicatif qui permet d'expliquer le taux d'acception ou de rejet dans votre échantillon sur la base d'autres variables. Par la suite, vous pouvez appliquer le modèle pour toutes les communes et ainsi estimer le taux d'acceptation dans l'ensemble, et identifier en même temps les communes où l'acceptation est incertaine. Ceci vous permet de cibler votre campagne sur un petit nombre de communes critiques.\n",
    "\n",
    "- Vous voulez estimer la fréquence du brouillard à tous les endroits en Suisse. Pour cela, vous disposez des mesures de quelques stations météo. En plus, vous pouvez calculer des paramètres liés à la configuration du terrain, des vents, l'ensoleillement etc. Tous ces paramètres vous permettront de construire un modèle de régression pour la fréquence du brouillard. (Par ailleurs, il y a des rumeurs comme quoi la fréquence du brouillard en Suisse romande est directement liée à la proportion de Valaisans. À vous de vérifier...)"
   ]
  },
  {
   "cell_type": "markdown",
   "metadata": {},
   "source": [
    "Nous ne pouvons évidemment pas traiter toutes les applications potentielles d'un modèle de régression. Le but principal ici est de montrer comment on peut calculer une régression linéaire multiple avec R, et comment on doit interpréter les résultats."
   ]
  },
  {
   "cell_type": "markdown",
   "metadata": {},
   "source": [
    "Dans notre exemple, nous essayons d'estimer le lien entre les personnes divorcées (variable `PMSDIV`) à l'aide d'une série d'autres variables (déterminées plus ou moins aléatoirement), et ceci pour les régions Z05 des cantons de Zurich et Berne:\n",
    "\n",
    "- `ADCFARM`: le nombre de paysans\n",
    "- `PRPROT`: le nombre de protestants\n",
    "- `PRCATH`: le nombre de catholiques\n",
    "- `PRJEW`: le nombre de juifs\n",
    "- `PFGEN`: le nombre de personnes avec éducation école obligatoire\n",
    "- `PFBAC`: le nombre de personnes avec un degrée de Bachelor\n",
    "\n",
    "Nous utilisons pour cela le même jeu de données que pour l'exemple sur les [corrélations](../20-correlations):"
   ]
  },
  {
   "cell_type": "code",
   "execution_count": 1,
   "metadata": {
    "collapsed": true
   },
   "outputs": [],
   "source": [
    "d = read.csv(file=\"data-zh-be.tsv\", sep=\"\\t\")"
   ]
  },
  {
   "cell_type": "markdown",
   "metadata": {},
   "source": [
    "La régression linéaire peut être calculée dans R avec la fonction [`lm`](https://stat.ethz.ch/R-manual/R-devel/library/stats/html/lm.html):"
   ]
  },
  {
   "cell_type": "code",
   "execution_count": 2,
   "metadata": {
    "collapsed": true
   },
   "outputs": [],
   "source": [
    "reglin = lm(PMSDIV ~ ADCFARM + PRPROT + PRCATH + PRJEW + PFGEN + PFBAC, data=d)"
   ]
  },
  {
   "cell_type": "markdown",
   "metadata": {},
   "source": [
    "où nous gardons le résultat de la régression dans `reglin`. On note que la variable dépendante vient d'abord, séparé par un signe `~`. Puis les variables indépendantes viennent par la suite, séparées par un `+`. Le tableau de données de source est indiqué avec `data=d` (chose que nous avons déjà vu)."
   ]
  },
  {
   "cell_type": "markdown",
   "metadata": {},
   "source": [
    "Pour pouvoir analyser le résultat de la régression, nous devons demander à R de nous montrer le résultat. La façon la plus simple est:"
   ]
  },
  {
   "cell_type": "code",
   "execution_count": 3,
   "metadata": {
    "collapsed": false
   },
   "outputs": [
    {
     "data": {
      "text/plain": [
       "\n",
       "Call:\n",
       "lm(formula = PMSDIV ~ ADCFARM + PRPROT + PRCATH + PRJEW + PFGEN + \n",
       "    PFBAC, data = d)\n",
       "\n",
       "Residuals:\n",
       "     Min       1Q   Median       3Q      Max \n",
       "-236.826  -50.102    0.814   45.786  222.264 \n",
       "\n",
       "Coefficients:\n",
       "             Estimate Std. Error t value Pr(>|t|)    \n",
       "(Intercept) 60.397000  20.288519   2.977  0.00309 ** \n",
       "ADCFARM     -0.556457   0.081610  -6.818 3.38e-11 ***\n",
       "PRPROT       0.036557   0.006725   5.436 9.45e-08 ***\n",
       "PRCATH       0.131151   0.012417  10.562  < 2e-16 ***\n",
       "PRJEW       -0.178554   0.085340  -2.092  0.03704 *  \n",
       "PFGEN        0.382620   0.044691   8.561 2.38e-16 ***\n",
       "PFBAC        0.247279   0.041915   5.900 7.73e-09 ***\n",
       "---\n",
       "Signif. codes:  0 ‘***’ 0.001 ‘**’ 0.01 ‘*’ 0.05 ‘.’ 0.1 ‘ ’ 1\n",
       "\n",
       "Residual standard error: 73.11 on 403 degrees of freedom\n",
       "Multiple R-squared:  0.5524,\tAdjusted R-squared:  0.5457 \n",
       "F-statistic: 82.89 on 6 and 403 DF,  p-value: < 2.2e-16\n"
      ]
     },
     "metadata": {},
     "output_type": "display_data"
    }
   ],
   "source": [
    "summary(reglin)"
   ]
  },
  {
   "cell_type": "markdown",
   "metadata": {},
   "source": [
    "Regardons un peu la sortie de R pour notre résultat de régression...\n",
    "\n",
    "Commençons avec la dernière partie:\n",
    "\n",
    "```\n",
    "Residual standard error: 73.11 on 403 degrees of freedom\n",
    "Multiple R-squared:  0.5524,\tAdjusted R-squared:  0.5457 \n",
    "F-statistic: 82.89 on 6 and 403 DF,  p-value: < 2.2e-16\n",
    "```\n",
    "\n",
    "Ici nous trouvons le **coefficient de détermination** $R^2$, respectivement son homologue $R^2$ ajusté. Dans le cas d'une régression multiple, le $R^2$ ajusté pénalise la présence d'un grand nombre de variables indépendantes. C'est donc le **$R^2$ ajusté** qui est à préférer. Il nous indique la **proportion de variance expliquée** par notre modèle. Avec une valeur d'environ 0.55, notre modèle n'est de loin pas parfait, mais il nous donne tout de même  quelques tendances... (presque surprenant au vue des variables de départ)\n",
    "\n",
    "Ensuite, dans la même section, nous trouvons également le résultat d'un test de F (très similaire à celui dans l'ANOVA). Le F présente grosso modo le ratio entre la variance expliquée et la variance résiduelle (non expliquée). Plus la valeur de $F$ est grande, plus la probabilité est grande que le modèle explique quelque chose. La p valeur associé est la probabilité que le modèle n'explique rien en réalité en assumant qu'il explique quelque chose. Plus formellement, les hypothèses pour le test de F sont les suivantes:\n",
    "\n",
    "$H_0$: tous les coefficients sont égaux à 0  \n",
    "$H_1$: au moins un coefficient n'est pas égal à 0\n",
    "\n",
    "Puis nous pouvons regarder les différents coefficients (ce sont les paramètres de notre modèle):\n",
    "\n",
    "```\n",
    "Coefficients:\n",
    "             Estimate Std. Error t value Pr(>|t|)    \n",
    "(Intercept) 60.397000  20.288519   2.977  0.00309 ** \n",
    "ADCFARM     -0.556457   0.081610  -6.818 3.38e-11 ***\n",
    "PRPROT       0.036557   0.006725   5.436 9.45e-08 ***\n",
    "PRCATH       0.131151   0.012417  10.562  < 2e-16 ***\n",
    "PRJEW       -0.178554   0.085340  -2.092  0.03704 *  \n",
    "PFGEN        0.382620   0.044691   8.561 2.38e-16 ***\n",
    "PFBAC        0.247279   0.041915   5.900 7.73e-09 ***\n",
    "```\n",
    "\n",
    "Pour chaque variable, nous obtenons un coefficient (colonne `Estimate`), plus un pour la constante (_intercept_). Nous avons également le résultat d'un test de Student pour déterminer si le coefficient est significativement différent de 0 (test de non-nullité). La p valeur associée (dans la colonne `Pr(>|t|)`) indique la probabilité de se tromper en disant que le coefficient est non nul.\n",
    "\n",
    "Les étoiles à la fin de chaque ligne donnent également le degré de significativité."
   ]
  },
  {
   "cell_type": "markdown",
   "metadata": {},
   "source": [
    "En géographie, nous travaillons souvent avec des unités spatiales. Dès lors, il est possible d'**analyser les résidus** d'une régression à travers une carte. Un résidu est la différence entre la vraie valeur de la variable dépendante, et la même valeur estimée par la régression. Les résidus peuvent être obtenus avec `reglin$residuals`. Voici comment ajouter les résidus comme colonne supplémentaire dans notre tableau de données:"
   ]
  },
  {
   "cell_type": "code",
   "execution_count": 4,
   "metadata": {
    "collapsed": true
   },
   "outputs": [],
   "source": [
    "d$residus_regr = reglin$residuals"
   ]
  },
  {
   "cell_type": "markdown",
   "metadata": {},
   "source": [
    "Et maintenant nous pouvons écrire le jeu de données complet, y compris la nouvelle variable, dans un nouveau fichier TSV, à l'aide de la fonction __[`write.csv`](https://stat.ethz.ch/R-manual/R-devel/library/utils/html/write.table.html):"
   ]
  },
  {
   "cell_type": "code",
   "execution_count": 6,
   "metadata": {
    "collapsed": true
   },
   "outputs": [],
   "source": [
    "write.table(d, file=\"nouveau-fichier-donnees.tsv\", sep=\"\\t\", row.names=FALSE, col.names=TRUE)"
   ]
  },
  {
   "cell_type": "markdown",
   "metadata": {},
   "source": [
    "ce qui devrait être suffisant pour faire une carte thématique (la jointure dans QGIS vous salue...)."
   ]
  }
 ],
 "metadata": {
  "kernelspec": {
   "display_name": "R",
   "language": "R",
   "name": "ir"
  },
  "language_info": {
   "codemirror_mode": "r",
   "file_extension": ".r",
   "mimetype": "text/x-r-source",
   "name": "R",
   "pygments_lexer": "r",
   "version": "3.2.4"
  },
  "latex_envs": {
   "LaTeX_envs_menu_present": true,
   "bibliofile": "biblio.bib",
   "cite_by": "apalike",
   "current_citInitial": 1,
   "eqLabelWithNumbers": true,
   "eqNumInitial": 1,
   "labels_anchors": false,
   "latex_user_defs": false,
   "report_style_numbering": false,
   "user_envs_cfg": false
  }
 },
 "nbformat": 4,
 "nbformat_minor": 2
}
